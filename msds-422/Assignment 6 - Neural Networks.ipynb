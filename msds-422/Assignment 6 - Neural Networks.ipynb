{
 "cells": [
  {
   "cell_type": "markdown",
   "metadata": {},
   "source": [
    "# Assignment 6 - Neural Networks\n",
    "MSDS 422 - SEC 57 THURSDAY\n",
    "\n",
    "FERDYNAND HEBAL - 8/04/2019"
   ]
  },
  {
   "cell_type": "markdown",
   "metadata": {},
   "source": [
    "In this assignment, neural network structures are explored within a 2x2 full factorial/crossed benchmark experiment on the Digit Recognition problem in Kaggle.com.  \n",
    "\n",
    "Classification performance accuracy and processing time are assessed using Python TensorFlow. Due to the time required to fit each neural network, only one trial is observed for each cell in the design. Mini-Batch Gradient Descent is used to help avoid local minima while maintaining efficiency of not having all training data in memory. Batch size is set to 40 and number of iterations to 40,000 for all trials in this experiment. Timing and accuracy results are presented in Table 1. \n",
    "\n",
    "Additionally, the results for one trial using SGDClassifier from SKlearn are presented to provide an example of performance and accuracy using a non-neural network technique."
   ]
  },
  {
   "cell_type": "code",
   "execution_count": 1,
   "metadata": {},
   "outputs": [],
   "source": [
    "# import base packages into the namespace for this program\n",
    "import pandas as pd\n",
    "import numpy as np\n",
    "import tensorflow as tf\n",
    "tf.logging.set_verbosity(tf.logging.ERROR)\n",
    "import time\n",
    "from sklearn.model_selection import train_test_split\n",
    "from sklearn.linear_model import SGDClassifier\n",
    "from sklearn.metrics import accuracy_score\n",
    "from sklearn.svm import SVC"
   ]
  },
  {
   "cell_type": "markdown",
   "metadata": {},
   "source": [
    "# Data preparation, exploration, visualization\n",
    "As this is a prepared dataset and ready for analysis, no data processing is performed beyond converting imported train.csv to a numpy array for modeling. Printed dataset details using .head, .info is provided below"
   ]
  },
  {
   "cell_type": "code",
   "execution_count": 2,
   "metadata": {},
   "outputs": [
    {
     "name": "stdout",
     "output_type": "stream",
     "text": [
      "   label  pixel0  pixel1  pixel2  pixel3  pixel4  pixel5  pixel6  pixel7  \\\n",
      "0      1       0       0       0       0       0       0       0       0   \n",
      "1      0       0       0       0       0       0       0       0       0   \n",
      "2      1       0       0       0       0       0       0       0       0   \n",
      "3      4       0       0       0       0       0       0       0       0   \n",
      "4      0       0       0       0       0       0       0       0       0   \n",
      "\n",
      "   pixel8    ...     pixel774  pixel775  pixel776  pixel777  pixel778  \\\n",
      "0       0    ...            0         0         0         0         0   \n",
      "1       0    ...            0         0         0         0         0   \n",
      "2       0    ...            0         0         0         0         0   \n",
      "3       0    ...            0         0         0         0         0   \n",
      "4       0    ...            0         0         0         0         0   \n",
      "\n",
      "   pixel779  pixel780  pixel781  pixel782  pixel783  \n",
      "0         0         0         0         0         0  \n",
      "1         0         0         0         0         0  \n",
      "2         0         0         0         0         0  \n",
      "3         0         0         0         0         0  \n",
      "4         0         0         0         0         0  \n",
      "\n",
      "[5 rows x 785 columns]\n"
     ]
    }
   ],
   "source": [
    "mnist_train = pd.read_csv(r'train.csv')\n",
    "print(mnist_train.head())"
   ]
  },
  {
   "cell_type": "code",
   "execution_count": 3,
   "metadata": {},
   "outputs": [
    {
     "name": "stdout",
     "output_type": "stream",
     "text": [
      "<class 'pandas.core.frame.DataFrame'>\n",
      "RangeIndex: 42000 entries, 0 to 41999\n",
      "Columns: 785 entries, label to pixel783\n",
      "dtypes: int64(785)\n",
      "memory usage: 251.5 MB\n"
     ]
    }
   ],
   "source": [
    "mnist_train.info()"
   ]
  },
  {
   "cell_type": "markdown",
   "metadata": {},
   "source": [
    "# Review research design and modeling methods\n",
    "Splitting test and training data will help to avoid snooping bias and overfitting, I use the sklearn train_test_split function and set 20% test size. Below this, neural network structures are explored within a 2x2 full factorial/crossed benchmark experiment on the Digit Recognition problem in Kaggle.com.\n",
    "\n",
    "Additionally, results for one trial using SGDClassifier from SKlearn are presented to provide an example of performance and accuracy using a non neural network technique"
   ]
  },
  {
   "cell_type": "code",
   "execution_count": 4,
   "metadata": {},
   "outputs": [
    {
     "name": "stdout",
     "output_type": "stream",
     "text": [
      "Train dimensions: (33600, 784)\n",
      "Test dimensions: (8400, 784)\n"
     ]
    }
   ],
   "source": [
    "train_data = np.array([mnist_train.values][0])\n",
    "\n",
    "y = train_data[:,0]\n",
    "X = train_data[:,1:]\n",
    "X_train, X_test, y_train, y_test = train_test_split(X, y, test_size=0.2)\n",
    "\n",
    "print('Train dimensions:', X_train.shape)\n",
    "print('Test dimensions:', X_test.shape)"
   ]
  },
  {
   "cell_type": "code",
   "execution_count": 5,
   "metadata": {},
   "outputs": [
    {
     "data": {
      "text/html": [
       "<div>\n",
       "<style scoped>\n",
       "    .dataframe tbody tr th:only-of-type {\n",
       "        vertical-align: middle;\n",
       "    }\n",
       "\n",
       "    .dataframe tbody tr th {\n",
       "        vertical-align: top;\n",
       "    }\n",
       "\n",
       "    .dataframe thead th {\n",
       "        text-align: right;\n",
       "    }\n",
       "</style>\n",
       "<table border=\"1\" class=\"dataframe\">\n",
       "  <thead>\n",
       "    <tr style=\"text-align: right;\">\n",
       "      <th></th>\n",
       "      <th>Number of Layers</th>\n",
       "      <th>Nodes per Layer</th>\n",
       "      <th>Processing time</th>\n",
       "      <th>Train set accuracy</th>\n",
       "      <th>Test set accuracy</th>\n",
       "    </tr>\n",
       "  </thead>\n",
       "  <tbody>\n",
       "    <tr>\n",
       "      <th>0</th>\n",
       "      <td>na</td>\n",
       "      <td>na</td>\n",
       "      <td>51.85</td>\n",
       "      <td>0.896</td>\n",
       "      <td>0.871</td>\n",
       "    </tr>\n",
       "  </tbody>\n",
       "</table>\n",
       "</div>"
      ],
      "text/plain": [
       "  Number of Layers Nodes per Layer Processing time Train set accuracy  \\\n",
       "0               na              na           51.85              0.896   \n",
       "\n",
       "  Test set accuracy  \n",
       "0             0.871  "
      ]
     },
     "execution_count": 5,
     "metadata": {},
     "output_type": "execute_result"
    }
   ],
   "source": [
    "#SGD Classifier results\n",
    "sgd_clf = SGDClassifier(random_state=42,max_iter=1000,tol=1e-3)\n",
    "\n",
    "# processing time to fit model\n",
    "start = time.time()\n",
    "sgd_clf.fit(X_train, y_train)\n",
    "done = time.time()\n",
    "processing_time = done - start\n",
    "\n",
    "#accuracy in test and train\n",
    "y_pred = sgd_clf.predict(X_test)\n",
    "test_accuracy = accuracy_score(y_test, y_pred)\n",
    "y_pred = sgd_clf.predict(X_train)\n",
    "train_accuracy = accuracy_score(y_train, y_pred)\n",
    "\n",
    "#collect results\n",
    "results = ['na','na',round(processing_time,2), round(train_accuracy,3), round(test_accuracy,3)]\n",
    "results_df = pd.DataFrame(results).T\n",
    "results_df.columns = ['Number of Layers','Nodes per Layer','Processing time'\n",
    "                      , 'Train set accuracy', 'Test set accuracy']\n",
    "results_df_sgd = results_df.copy()\n",
    "results_df_sgd"
   ]
  },
  {
   "cell_type": "code",
   "execution_count": 6,
   "metadata": {
    "scrolled": true
   },
   "outputs": [
    {
     "name": "stdout",
     "output_type": "stream",
     "text": [
      "\n",
      "WARNING: The TensorFlow contrib module will not be included in TensorFlow 2.0.\n",
      "For more information, please see:\n",
      "  * https://github.com/tensorflow/community/blob/master/rfcs/20180907-contrib-sunset.md\n",
      "  * https://github.com/tensorflow/addons\n",
      "If you depend on functionality not listed there, please file an issue.\n",
      "\n"
     ]
    },
    {
     "data": {
      "text/html": [
       "<div>\n",
       "<style scoped>\n",
       "    .dataframe tbody tr th:only-of-type {\n",
       "        vertical-align: middle;\n",
       "    }\n",
       "\n",
       "    .dataframe tbody tr th {\n",
       "        vertical-align: top;\n",
       "    }\n",
       "\n",
       "    .dataframe thead th {\n",
       "        text-align: right;\n",
       "    }\n",
       "</style>\n",
       "<table border=\"1\" class=\"dataframe\">\n",
       "  <thead>\n",
       "    <tr style=\"text-align: right;\">\n",
       "      <th></th>\n",
       "      <th>Number of Layers</th>\n",
       "      <th>Nodes per Layer</th>\n",
       "      <th>Processing time</th>\n",
       "      <th>Train set accuracy</th>\n",
       "      <th>Test set accuracy</th>\n",
       "    </tr>\n",
       "  </thead>\n",
       "  <tbody>\n",
       "    <tr>\n",
       "      <th>0</th>\n",
       "      <td>2</td>\n",
       "      <td>10</td>\n",
       "      <td>24.63</td>\n",
       "      <td>0.709</td>\n",
       "      <td>0.698</td>\n",
       "    </tr>\n",
       "  </tbody>\n",
       "</table>\n",
       "</div>"
      ],
      "text/plain": [
       "  Number of Layers Nodes per Layer Processing time Train set accuracy  \\\n",
       "0                2              10           24.63              0.709   \n",
       "\n",
       "  Test set accuracy  \n",
       "0             0.698  "
      ]
     },
     "execution_count": 6,
     "metadata": {},
     "output_type": "execute_result"
    }
   ],
   "source": [
    "#DNN Classifier results for 2 layers with 10 nodes each\n",
    "feature_cols = tf.contrib.learn.infer_real_valued_columns_from_input(X_train)\n",
    "dnn_clf = tf.contrib.learn.DNNClassifier(hidden_units=[10,10], n_classes=10, feature_columns=feature_cols)\n",
    "dnn_clf = tf.contrib.learn.SKCompat(dnn_clf)  # if TensorFlow >= 1.1\n",
    "\n",
    "start = time.time()\n",
    "dnn_clf.fit(X_train, y_train, batch_size=50, steps=40000)\n",
    "done = time.time()\n",
    "processing_time = done - start\n",
    "\n",
    "y_pred = dnn_clf.predict(X_train)\n",
    "train_accuracy = accuracy_score(y_train, y_pred['classes'])\n",
    "y_pred = dnn_clf.predict(X_test)\n",
    "test_accuracy = accuracy_score(y_test, y_pred['classes'])\n",
    "\n",
    "results = ['2','10',round(processing_time,2), round(train_accuracy,3), round(test_accuracy,3)]\n",
    "results_df = pd.DataFrame(results).T\n",
    "results_df.columns = ['Number of Layers','Nodes per Layer','Processing time'\n",
    "                      , 'Train set accuracy', 'Test set accuracy']\n",
    "results_df_210 = results_df.copy()\n",
    "results_df_210"
   ]
  },
  {
   "cell_type": "code",
   "execution_count": 7,
   "metadata": {},
   "outputs": [
    {
     "data": {
      "text/html": [
       "<div>\n",
       "<style scoped>\n",
       "    .dataframe tbody tr th:only-of-type {\n",
       "        vertical-align: middle;\n",
       "    }\n",
       "\n",
       "    .dataframe tbody tr th {\n",
       "        vertical-align: top;\n",
       "    }\n",
       "\n",
       "    .dataframe thead th {\n",
       "        text-align: right;\n",
       "    }\n",
       "</style>\n",
       "<table border=\"1\" class=\"dataframe\">\n",
       "  <thead>\n",
       "    <tr style=\"text-align: right;\">\n",
       "      <th></th>\n",
       "      <th>Number of Layers</th>\n",
       "      <th>Nodes per Layer</th>\n",
       "      <th>Processing time</th>\n",
       "      <th>Train set accuracy</th>\n",
       "      <th>Test set accuracy</th>\n",
       "    </tr>\n",
       "  </thead>\n",
       "  <tbody>\n",
       "    <tr>\n",
       "      <th>0</th>\n",
       "      <td>2</td>\n",
       "      <td>20</td>\n",
       "      <td>26.01</td>\n",
       "      <td>0.93</td>\n",
       "      <td>0.904</td>\n",
       "    </tr>\n",
       "  </tbody>\n",
       "</table>\n",
       "</div>"
      ],
      "text/plain": [
       "  Number of Layers Nodes per Layer Processing time Train set accuracy  \\\n",
       "0                2              20           26.01               0.93   \n",
       "\n",
       "  Test set accuracy  \n",
       "0             0.904  "
      ]
     },
     "execution_count": 7,
     "metadata": {},
     "output_type": "execute_result"
    }
   ],
   "source": [
    "#DNN Classifier results for 2 layers with 20 nodes each\n",
    "feature_cols = tf.contrib.learn.infer_real_valued_columns_from_input(X_train)\n",
    "dnn_clf = tf.contrib.learn.DNNClassifier(hidden_units=[20,20], n_classes=10, feature_columns=feature_cols)\n",
    "dnn_clf = tf.contrib.learn.SKCompat(dnn_clf)  # if TensorFlow >= 1.1\n",
    "\n",
    "start = time.time()\n",
    "dnn_clf.fit(X_train, y_train, batch_size=50, steps=40000)\n",
    "done = time.time()\n",
    "processing_time = done - start\n",
    "\n",
    "y_pred = dnn_clf.predict(X_train)\n",
    "train_accuracy = accuracy_score(y_train, y_pred['classes'])\n",
    "\n",
    "y_pred = dnn_clf.predict(X_test)\n",
    "test_accuracy = accuracy_score(y_test, y_pred['classes'])\n",
    "\n",
    "results = ['2','20',round(processing_time,2), round(train_accuracy,3), round(test_accuracy,3)]\n",
    "results_df = pd.DataFrame(results).T\n",
    "results_df.columns = ['Number of Layers','Nodes per Layer','Processing time'\n",
    "                      , 'Train set accuracy', 'Test set accuracy']\n",
    "results_df_220 = results_df.copy()\n",
    "results_df_220"
   ]
  },
  {
   "cell_type": "code",
   "execution_count": 8,
   "metadata": {},
   "outputs": [
    {
     "data": {
      "text/html": [
       "<div>\n",
       "<style scoped>\n",
       "    .dataframe tbody tr th:only-of-type {\n",
       "        vertical-align: middle;\n",
       "    }\n",
       "\n",
       "    .dataframe tbody tr th {\n",
       "        vertical-align: top;\n",
       "    }\n",
       "\n",
       "    .dataframe thead th {\n",
       "        text-align: right;\n",
       "    }\n",
       "</style>\n",
       "<table border=\"1\" class=\"dataframe\">\n",
       "  <thead>\n",
       "    <tr style=\"text-align: right;\">\n",
       "      <th></th>\n",
       "      <th>Number of Layers</th>\n",
       "      <th>Nodes per Layer</th>\n",
       "      <th>Processing time</th>\n",
       "      <th>Train set accuracy</th>\n",
       "      <th>Test set accuracy</th>\n",
       "    </tr>\n",
       "  </thead>\n",
       "  <tbody>\n",
       "    <tr>\n",
       "      <th>0</th>\n",
       "      <td>5</td>\n",
       "      <td>10</td>\n",
       "      <td>27.09</td>\n",
       "      <td>0.874</td>\n",
       "      <td>0.848</td>\n",
       "    </tr>\n",
       "  </tbody>\n",
       "</table>\n",
       "</div>"
      ],
      "text/plain": [
       "  Number of Layers Nodes per Layer Processing time Train set accuracy  \\\n",
       "0                5              10           27.09              0.874   \n",
       "\n",
       "  Test set accuracy  \n",
       "0             0.848  "
      ]
     },
     "execution_count": 8,
     "metadata": {},
     "output_type": "execute_result"
    }
   ],
   "source": [
    "#DNN Classifier results for 5 layers with 10 nodes each\n",
    "feature_cols = tf.contrib.learn.infer_real_valued_columns_from_input(X_train)\n",
    "dnn_clf = tf.contrib.learn.DNNClassifier(hidden_units=[10,10,10,10,10], n_classes=10, feature_columns=feature_cols)\n",
    "dnn_clf = tf.contrib.learn.SKCompat(dnn_clf)  # if TensorFlow >= 1.1\n",
    "\n",
    "start = time.time()\n",
    "dnn_clf.fit(X_train, y_train, batch_size=50, steps=40000)\n",
    "done = time.time()\n",
    "processing_time = done - start\n",
    "\n",
    "y_pred = dnn_clf.predict(X_train)\n",
    "train_accuracy = accuracy_score(y_train, y_pred['classes'])\n",
    "\n",
    "y_pred = dnn_clf.predict(X_test)\n",
    "test_accuracy = accuracy_score(y_test, y_pred['classes'])\n",
    "\n",
    "results = ['5','10',round(processing_time,2), round(train_accuracy,3), round(test_accuracy,3)]\n",
    "results_df = pd.DataFrame(results).T\n",
    "results_df.columns = ['Number of Layers','Nodes per Layer','Processing time'\n",
    "                      , 'Train set accuracy', 'Test set accuracy']\n",
    "results_df_510 = results_df.copy()\n",
    "results_df_510"
   ]
  },
  {
   "cell_type": "code",
   "execution_count": 9,
   "metadata": {},
   "outputs": [
    {
     "data": {
      "text/html": [
       "<div>\n",
       "<style scoped>\n",
       "    .dataframe tbody tr th:only-of-type {\n",
       "        vertical-align: middle;\n",
       "    }\n",
       "\n",
       "    .dataframe tbody tr th {\n",
       "        vertical-align: top;\n",
       "    }\n",
       "\n",
       "    .dataframe thead th {\n",
       "        text-align: right;\n",
       "    }\n",
       "</style>\n",
       "<table border=\"1\" class=\"dataframe\">\n",
       "  <thead>\n",
       "    <tr style=\"text-align: right;\">\n",
       "      <th></th>\n",
       "      <th>Number of Layers</th>\n",
       "      <th>Nodes per Layer</th>\n",
       "      <th>Processing time</th>\n",
       "      <th>Train set accuracy</th>\n",
       "      <th>Test set accuracy</th>\n",
       "    </tr>\n",
       "  </thead>\n",
       "  <tbody>\n",
       "    <tr>\n",
       "      <th>0</th>\n",
       "      <td>5</td>\n",
       "      <td>20</td>\n",
       "      <td>30.24</td>\n",
       "      <td>0.922</td>\n",
       "      <td>0.897</td>\n",
       "    </tr>\n",
       "  </tbody>\n",
       "</table>\n",
       "</div>"
      ],
      "text/plain": [
       "  Number of Layers Nodes per Layer Processing time Train set accuracy  \\\n",
       "0                5              20           30.24              0.922   \n",
       "\n",
       "  Test set accuracy  \n",
       "0             0.897  "
      ]
     },
     "execution_count": 9,
     "metadata": {},
     "output_type": "execute_result"
    }
   ],
   "source": [
    "#DNN Classifier results for 5 layers with 20 nodes each\n",
    "feature_cols = tf.contrib.learn.infer_real_valued_columns_from_input(X_train)\n",
    "dnn_clf = tf.contrib.learn.DNNClassifier(hidden_units=[20,20,20,20,20], n_classes=10, feature_columns=feature_cols)\n",
    "dnn_clf = tf.contrib.learn.SKCompat(dnn_clf)  # if TensorFlow >= 1.1\n",
    "\n",
    "start = time.time()\n",
    "dnn_clf.fit(X_train, y_train, batch_size=50, steps=40000)\n",
    "done = time.time()\n",
    "processing_time = done - start\n",
    "\n",
    "y_pred = dnn_clf.predict(X_train)\n",
    "train_accuracy = accuracy_score(y_train, y_pred['classes'])\n",
    "\n",
    "y_pred = dnn_clf.predict(X_test)\n",
    "test_accuracy = accuracy_score(y_test, y_pred['classes'])\n",
    "\n",
    "results = ['5','20',round(processing_time,2), round(train_accuracy,3), round(test_accuracy,3)]\n",
    "results_df = pd.DataFrame(results).T\n",
    "results_df.columns = ['Number of Layers','Nodes per Layer','Processing time'\n",
    "                      , 'Train set accuracy', 'Test set accuracy']\n",
    "results_df_520 = results_df.copy()\n",
    "results_df_520"
   ]
  },
  {
   "cell_type": "code",
   "execution_count": 13,
   "metadata": {},
   "outputs": [
    {
     "name": "stdout",
     "output_type": "stream",
     "text": [
      "Table 1. Tensor Flow Multi-layer Deep Neural Network.\n"
     ]
    },
    {
     "data": {
      "text/html": [
       "<div>\n",
       "<style scoped>\n",
       "    .dataframe tbody tr th:only-of-type {\n",
       "        vertical-align: middle;\n",
       "    }\n",
       "\n",
       "    .dataframe tbody tr th {\n",
       "        vertical-align: top;\n",
       "    }\n",
       "\n",
       "    .dataframe thead th {\n",
       "        text-align: right;\n",
       "    }\n",
       "</style>\n",
       "<table border=\"1\" class=\"dataframe\">\n",
       "  <thead>\n",
       "    <tr style=\"text-align: right;\">\n",
       "      <th></th>\n",
       "      <th>Classifier</th>\n",
       "      <th>Number of Layers</th>\n",
       "      <th>Nodes per Layer</th>\n",
       "      <th>Processing time</th>\n",
       "      <th>Train set accuracy</th>\n",
       "      <th>Test set accuracy</th>\n",
       "      <th>dif</th>\n",
       "    </tr>\n",
       "  </thead>\n",
       "  <tbody>\n",
       "    <tr>\n",
       "      <th>0</th>\n",
       "      <td>DNNClassifier</td>\n",
       "      <td>2</td>\n",
       "      <td>10</td>\n",
       "      <td>24.63</td>\n",
       "      <td>0.709</td>\n",
       "      <td>0.698</td>\n",
       "      <td>-0.011</td>\n",
       "    </tr>\n",
       "    <tr>\n",
       "      <th>1</th>\n",
       "      <td>DNNClassifier</td>\n",
       "      <td>2</td>\n",
       "      <td>20</td>\n",
       "      <td>26.01</td>\n",
       "      <td>0.93</td>\n",
       "      <td>0.904</td>\n",
       "      <td>-0.026</td>\n",
       "    </tr>\n",
       "    <tr>\n",
       "      <th>2</th>\n",
       "      <td>DNNClassifier</td>\n",
       "      <td>5</td>\n",
       "      <td>10</td>\n",
       "      <td>27.09</td>\n",
       "      <td>0.874</td>\n",
       "      <td>0.848</td>\n",
       "      <td>-0.026</td>\n",
       "    </tr>\n",
       "    <tr>\n",
       "      <th>3</th>\n",
       "      <td>DNNClassifier</td>\n",
       "      <td>5</td>\n",
       "      <td>20</td>\n",
       "      <td>30.24</td>\n",
       "      <td>0.922</td>\n",
       "      <td>0.897</td>\n",
       "      <td>-0.025</td>\n",
       "    </tr>\n",
       "    <tr>\n",
       "      <th>4</th>\n",
       "      <td>SGDClassifier</td>\n",
       "      <td>na</td>\n",
       "      <td>na</td>\n",
       "      <td>51.85</td>\n",
       "      <td>0.896</td>\n",
       "      <td>0.871</td>\n",
       "      <td>-0.025</td>\n",
       "    </tr>\n",
       "  </tbody>\n",
       "</table>\n",
       "</div>"
      ],
      "text/plain": [
       "      Classifier Number of Layers Nodes per Layer Processing time  \\\n",
       "0  DNNClassifier                2              10           24.63   \n",
       "1  DNNClassifier                2              20           26.01   \n",
       "2  DNNClassifier                5              10           27.09   \n",
       "3  DNNClassifier                5              20           30.24   \n",
       "4  SGDClassifier               na              na           51.85   \n",
       "\n",
       "  Train set accuracy Test set accuracy    dif  \n",
       "0              0.709             0.698 -0.011  \n",
       "1               0.93             0.904 -0.026  \n",
       "2              0.874             0.848 -0.026  \n",
       "3              0.922             0.897 -0.025  \n",
       "4              0.896             0.871 -0.025  "
      ]
     },
     "execution_count": 13,
     "metadata": {},
     "output_type": "execute_result"
    }
   ],
   "source": [
    "# All results are collated into a single table\n",
    "print(\"Table 1. Tensor Flow Multi-layer Deep Neural Network.\")\n",
    "      \n",
    "res = results_df_210.append(results_df_220).append(results_df_510).append(results_df_520).append(results_df_sgd)\n",
    "res = pd.DataFrame(['DNNClassifier'\n",
    "                    ,'DNNClassifier'\n",
    "                    ,'DNNClassifier'\n",
    "                    ,'DNNClassifier'\n",
    "                    ,'SGDClassifier']).join(res.reset_index())\n",
    "res = res.rename(columns ={0:'Classifier'}).drop(columns={'index'})\n",
    "\n",
    "res['dif'] = res['Test set accuracy']-res['Train set accuracy']\n",
    "\n",
    "res"
   ]
  },
  {
   "cell_type": "markdown",
   "metadata": {},
   "source": [
    "# Summary\n",
    "\n",
    "Regarding the management problem, these results suggest that neural networks with a greater number of layers perform better given the same number of nodes, and similarly perform better with a great number of nodes given the same number of layers. The increase in number of layers seems to incur a greater cost in processing time than does the number of nodes. It is clear that even with a simple neural network structure a high level of accuracy can be achieve in train and test sets. Performance by even a simple eural network classifier proved in this experiment to exceed  \n",
    "the performance of at least one example of a non-Neural Network classifier with a more efficient processing time. Further experimentation is warranted to demonstrate changes in additional parameters.\n",
    "\n",
    "Considering the results from this benchmark study I would conclude that DNN classifier with 5 layers and 20 nodes per layer can exceed performance of non-Neural Network technique with greater efficiency concerning processing time and trustworthy results given performance in test data. \n",
    "From the perspective of a financial institution evaluating machine learning technologies for optical character recognition I would recommend this technique given these parameters with the caveat that additional layers and nodes may result in higher accuracy but performance times will suffer and the risk overfitting increases with additional layers and nodes as demonstrated by the increasing difference in accuracy between test and train data in Table 1. \n",
    "\n",
    "\n"
   ]
  }
 ],
 "metadata": {
  "kernelspec": {
   "display_name": "Python 3",
   "language": "python",
   "name": "python3"
  },
  "language_info": {
   "codemirror_mode": {
    "name": "ipython",
    "version": 3
   },
   "file_extension": ".py",
   "mimetype": "text/x-python",
   "name": "python",
   "nbconvert_exporter": "python",
   "pygments_lexer": "ipython3",
   "version": "3.7.1"
  }
 },
 "nbformat": 4,
 "nbformat_minor": 2
}
