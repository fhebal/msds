{
 "cells": [
  {
   "cell_type": "markdown",
   "metadata": {},
   "source": [
    "# Assignment 2 - Evaluating Classification Models\n",
    "MSDS 422 - SEC 57 THURSDAY\n",
    "\n",
    "FERDYNAND HEBAL - 7/8/2019"
   ]
  },
  {
   "cell_type": "markdown",
   "metadata": {},
   "source": [
    "I struggled using just the three binary explanatory variables relating to client banking history: default, housing, and loan in this assignment to predict the binary response variable: \"Has the client subscribed to a term deposit?\" Model results reliably returned 0 rate of prediction for logistic regression, and occasionally successful hits with naive bayes. I tried using another set of explanatory variables using this same dataset that seemed to replicate results of other analyses using the same bank.csv dataset available via a google search. Results were similary lackluster. In any case below are the result of this analysis comparing logistic regression with naive bayes using ROC curves, ROC auc, precision, recall, F1 score, and confusion matrices.\n",
    "\n",
    "Regarding the management problem, these results suggest another approach may be more appropriate including models better suited to predicted rare events. Looking at descriptive results banking clients who do not have a loan or a house appear to be the best target for direct marketing efforts?"
   ]
  },
  {
   "cell_type": "markdown",
   "metadata": {},
   "source": [
    "# Data preparation, exploration, visualization \n",
    "\n",
    "Below I perform light data processing per the python starter code, including removal of nulls, relabeling string columns to binary integers for the suggested variables, and applying pandas get_dummies method to obtain one hot encoded columns of another set of variables for analysis."
   ]
  },
  {
   "cell_type": "code",
   "execution_count": 439,
   "metadata": {},
   "outputs": [
    {
     "name": "stdout",
     "output_type": "stream",
     "text": [
      "(4521, 17)\n",
      "['age', 'job', 'marital', 'education', 'default', 'balance', 'housing', 'loan', 'contact', 'day', 'month', 'duration', 'campaign', 'pdays', 'previous', 'poutcome', 'response']\n"
     ]
    },
    {
     "data": {
      "text/html": [
       "<div>\n",
       "<style scoped>\n",
       "    .dataframe tbody tr th:only-of-type {\n",
       "        vertical-align: middle;\n",
       "    }\n",
       "\n",
       "    .dataframe tbody tr th {\n",
       "        vertical-align: top;\n",
       "    }\n",
       "\n",
       "    .dataframe thead th {\n",
       "        text-align: right;\n",
       "    }\n",
       "</style>\n",
       "<table border=\"1\" class=\"dataframe\">\n",
       "  <thead>\n",
       "    <tr style=\"text-align: right;\">\n",
       "      <th></th>\n",
       "      <th>response</th>\n",
       "      <th>default</th>\n",
       "      <th>loan</th>\n",
       "      <th>housing</th>\n",
       "    </tr>\n",
       "  </thead>\n",
       "  <tbody>\n",
       "    <tr>\n",
       "      <th>0</th>\n",
       "      <td>0</td>\n",
       "      <td>0</td>\n",
       "      <td>0</td>\n",
       "      <td>0</td>\n",
       "    </tr>\n",
       "    <tr>\n",
       "      <th>1</th>\n",
       "      <td>0</td>\n",
       "      <td>0</td>\n",
       "      <td>1</td>\n",
       "      <td>1</td>\n",
       "    </tr>\n",
       "    <tr>\n",
       "      <th>2</th>\n",
       "      <td>0</td>\n",
       "      <td>0</td>\n",
       "      <td>0</td>\n",
       "      <td>1</td>\n",
       "    </tr>\n",
       "    <tr>\n",
       "      <th>3</th>\n",
       "      <td>0</td>\n",
       "      <td>0</td>\n",
       "      <td>1</td>\n",
       "      <td>1</td>\n",
       "    </tr>\n",
       "    <tr>\n",
       "      <th>4</th>\n",
       "      <td>0</td>\n",
       "      <td>0</td>\n",
       "      <td>0</td>\n",
       "      <td>1</td>\n",
       "    </tr>\n",
       "  </tbody>\n",
       "</table>\n",
       "</div>"
      ],
      "text/plain": [
       "   response  default  loan  housing\n",
       "0         0        0     0        0\n",
       "1         0        0     1        1\n",
       "2         0        0     0        1\n",
       "3         0        0     1        1\n",
       "4         0        0     0        1"
      ]
     },
     "execution_count": 439,
     "metadata": {},
     "output_type": "execute_result"
    }
   ],
   "source": [
    "RANDOM_SEED = 1\n",
    "\n",
    "import pandas as pd\n",
    "import numpy as np\n",
    "from sklearn import preprocessing\n",
    "import matplotlib.pyplot as plt \n",
    "from sklearn.model_selection import train_test_split\n",
    "from sklearn.metrics import roc_auc_score\n",
    "from sklearn.metrics import confusion_matrix\n",
    "\n",
    "#convert text no/yes to integer 0/1\n",
    "convert_to_binary = {'no' : 0, 'yes' : 1}\n",
    "\n",
    "data = pd.read_csv(r'bank.csv',sep=';')\n",
    "data = data.dropna()\n",
    "print(data.shape)\n",
    "print(list(data.columns))\n",
    "\n",
    "default = data['default'].map(convert_to_binary)\n",
    "housing = data['housing'].map(convert_to_binary)\n",
    "loan = data['loan'].map(convert_to_binary)\n",
    "response = data['response'].map(convert_to_binary)\n",
    "\n",
    "\n",
    "data['response'] = data['response'].map(convert_to_binary)\n",
    "\n",
    "data_google = data[['job', 'marital', 'default', 'housing', 'loan', 'poutcome','response','age']]\n",
    "\n",
    "\n",
    "data2 = pd.get_dummies(data_google, columns =['job', 'marital', 'default', 'housing', 'loan', 'poutcome'])\n",
    "\n",
    "\n",
    "#uncommenting this will run the variables suggested in this assignment through this model\n",
    "data = pd.concat([response,default,loan,housing],axis=1)\n",
    "data2 = data\n",
    "\n",
    "data2.head()"
   ]
  },
  {
   "cell_type": "markdown",
   "metadata": {},
   "source": [
    "It is clear for the response variable that the data is imbalanced and the response rate is low ~11.5% "
   ]
  },
  {
   "cell_type": "code",
   "execution_count": 440,
   "metadata": {},
   "outputs": [
    {
     "data": {
      "text/plain": [
       "0    4000\n",
       "1     521\n",
       "Name: response, dtype: int64"
      ]
     },
     "execution_count": 440,
     "metadata": {},
     "output_type": "execute_result"
    }
   ],
   "source": [
    "data2.response.value_counts()"
   ]
  },
  {
   "cell_type": "markdown",
   "metadata": {},
   "source": [
    "The crosstabs below demonstrate row percentages to review any potential associatiomn of the three variables suggested for this model with the response variable. housing and loan seem to have the largest differences in row percentages comparing yes vs no in the explanatory variable vs. the response variable"
   ]
  },
  {
   "cell_type": "code",
   "execution_count": 454,
   "metadata": {},
   "outputs": [
    {
     "data": {
      "text/html": [
       "<div>\n",
       "<style scoped>\n",
       "    .dataframe tbody tr th:only-of-type {\n",
       "        vertical-align: middle;\n",
       "    }\n",
       "\n",
       "    .dataframe tbody tr th {\n",
       "        vertical-align: top;\n",
       "    }\n",
       "\n",
       "    .dataframe thead th {\n",
       "        text-align: right;\n",
       "    }\n",
       "</style>\n",
       "<table border=\"1\" class=\"dataframe\">\n",
       "  <thead>\n",
       "    <tr style=\"text-align: right;\">\n",
       "      <th>housing</th>\n",
       "      <th>0</th>\n",
       "      <th>1</th>\n",
       "    </tr>\n",
       "    <tr>\n",
       "      <th>response</th>\n",
       "      <th></th>\n",
       "      <th></th>\n",
       "    </tr>\n",
       "  </thead>\n",
       "  <tbody>\n",
       "    <tr>\n",
       "      <th>0</th>\n",
       "      <td>0.415250</td>\n",
       "      <td>0.584750</td>\n",
       "    </tr>\n",
       "    <tr>\n",
       "      <th>1</th>\n",
       "      <td>0.577735</td>\n",
       "      <td>0.422265</td>\n",
       "    </tr>\n",
       "  </tbody>\n",
       "</table>\n",
       "</div>"
      ],
      "text/plain": [
       "housing          0         1\n",
       "response                    \n",
       "0         0.415250  0.584750\n",
       "1         0.577735  0.422265"
      ]
     },
     "execution_count": 454,
     "metadata": {},
     "output_type": "execute_result"
    }
   ],
   "source": [
    "pd.crosstab(data.response,data.housing).apply(lambda r: r/r.sum(), axis=1)"
   ]
  },
  {
   "cell_type": "code",
   "execution_count": 455,
   "metadata": {},
   "outputs": [
    {
     "data": {
      "text/html": [
       "<div>\n",
       "<style scoped>\n",
       "    .dataframe tbody tr th:only-of-type {\n",
       "        vertical-align: middle;\n",
       "    }\n",
       "\n",
       "    .dataframe tbody tr th {\n",
       "        vertical-align: top;\n",
       "    }\n",
       "\n",
       "    .dataframe thead th {\n",
       "        text-align: right;\n",
       "    }\n",
       "</style>\n",
       "<table border=\"1\" class=\"dataframe\">\n",
       "  <thead>\n",
       "    <tr style=\"text-align: right;\">\n",
       "      <th>default</th>\n",
       "      <th>0</th>\n",
       "      <th>1</th>\n",
       "    </tr>\n",
       "    <tr>\n",
       "      <th>response</th>\n",
       "      <th></th>\n",
       "      <th></th>\n",
       "    </tr>\n",
       "  </thead>\n",
       "  <tbody>\n",
       "    <tr>\n",
       "      <th>0</th>\n",
       "      <td>0.983250</td>\n",
       "      <td>0.016750</td>\n",
       "    </tr>\n",
       "    <tr>\n",
       "      <th>1</th>\n",
       "      <td>0.982726</td>\n",
       "      <td>0.017274</td>\n",
       "    </tr>\n",
       "  </tbody>\n",
       "</table>\n",
       "</div>"
      ],
      "text/plain": [
       "default          0         1\n",
       "response                    \n",
       "0         0.983250  0.016750\n",
       "1         0.982726  0.017274"
      ]
     },
     "execution_count": 455,
     "metadata": {},
     "output_type": "execute_result"
    }
   ],
   "source": [
    "pd.crosstab(data.response,data.default).apply(lambda r: r/r.sum(), axis=1)"
   ]
  },
  {
   "cell_type": "code",
   "execution_count": 456,
   "metadata": {},
   "outputs": [
    {
     "data": {
      "text/html": [
       "<div>\n",
       "<style scoped>\n",
       "    .dataframe tbody tr th:only-of-type {\n",
       "        vertical-align: middle;\n",
       "    }\n",
       "\n",
       "    .dataframe tbody tr th {\n",
       "        vertical-align: top;\n",
       "    }\n",
       "\n",
       "    .dataframe thead th {\n",
       "        text-align: right;\n",
       "    }\n",
       "</style>\n",
       "<table border=\"1\" class=\"dataframe\">\n",
       "  <thead>\n",
       "    <tr style=\"text-align: right;\">\n",
       "      <th>loan</th>\n",
       "      <th>0</th>\n",
       "      <th>1</th>\n",
       "    </tr>\n",
       "    <tr>\n",
       "      <th>response</th>\n",
       "      <th></th>\n",
       "      <th></th>\n",
       "    </tr>\n",
       "  </thead>\n",
       "  <tbody>\n",
       "    <tr>\n",
       "      <th>0</th>\n",
       "      <td>0.838000</td>\n",
       "      <td>0.162000</td>\n",
       "    </tr>\n",
       "    <tr>\n",
       "      <th>1</th>\n",
       "      <td>0.917466</td>\n",
       "      <td>0.082534</td>\n",
       "    </tr>\n",
       "  </tbody>\n",
       "</table>\n",
       "</div>"
      ],
      "text/plain": [
       "loan             0         1\n",
       "response                    \n",
       "0         0.838000  0.162000\n",
       "1         0.917466  0.082534"
      ]
     },
     "execution_count": 456,
     "metadata": {},
     "output_type": "execute_result"
    }
   ],
   "source": [
    "pd.crosstab(data.response,data.loan).apply(lambda r: r/r.sum(), axis=1)"
   ]
  },
  {
   "cell_type": "markdown",
   "metadata": {},
   "source": [
    "# Review research design and modeling methods \n",
    "Splitting test and training data will help to avoid snooping bias and overfitting, I use the sklearn train_test_split function and set 20% test size. Below this, logistic regression and the naive bayes GuassianNB classifiers are compared generating a confusion matrix, precision, recall, and f1 scores, and the ROC auc"
   ]
  },
  {
   "cell_type": "code",
   "execution_count": 444,
   "metadata": {},
   "outputs": [],
   "source": [
    "X = data2.iloc[:,1:]\n",
    "y = data2.iloc[:,0]\n",
    "X_train, X_test, y_train, y_test = train_test_split(X, y, test_size=0.2,random_state = 0)"
   ]
  },
  {
   "cell_type": "code",
   "execution_count": 460,
   "metadata": {},
   "outputs": [
    {
     "name": "stdout",
     "output_type": "stream",
     "text": [
      "Confusion Matrix\n",
      "[[3207    0]\n",
      " [ 409    0]]\n",
      "\n",
      "Accuracy of logistic classifier on test set: 0.89\n",
      "\n",
      "              precision    recall  f1-score   support\n",
      "\n",
      "           0       0.89      1.00      0.94      3207\n",
      "           1       0.00      0.00      0.00       409\n",
      "\n",
      "   micro avg       0.89      0.89      0.89      3616\n",
      "   macro avg       0.44      0.50      0.47      3616\n",
      "weighted avg       0.79      0.89      0.83      3616\n",
      "\n",
      "ROC auc\n",
      "0.6121896401743437\n"
     ]
    },
    {
     "name": "stderr",
     "output_type": "stream",
     "text": [
      "/Users/ferdynandhebal/anaconda3/lib/python3.7/site-packages/sklearn/metrics/classification.py:1143: UndefinedMetricWarning: Precision and F-score are ill-defined and being set to 0.0 in labels with no predicted samples.\n",
      "  'precision', 'predicted', average, warn_for)\n"
     ]
    }
   ],
   "source": [
    "from sklearn.linear_model import LogisticRegression\n",
    "\n",
    "classifier = LogisticRegression(random_state = 0, solver = 'liblinear')\n",
    "classifier.fit(X_train, y_train)\n",
    "\n",
    "y_pred = classifier.predict(X_train)\n",
    "\n",
    "from sklearn.metrics import confusion_matrix\n",
    "confusion_matrix = confusion_matrix(y_train, y_pred)\n",
    "print(\"Confusion Matrix\")\n",
    "print(confusion_matrix)\n",
    "print()\n",
    "print('Accuracy of logistic classifier on test set: {:.2f}'.format(classifier.score(X_train, y_train)))\n",
    "print()\n",
    "from sklearn.metrics import classification_report\n",
    "print(classification_report(y_train, y_pred))\n",
    "\n",
    "from sklearn.model_selection import cross_val_predict\n",
    "y_scores = cross_val_predict(classifier, X_train, y_train, cv=3,\n",
    "                             method=\"decision_function\")\n",
    "\n",
    "print('ROC auc')\n",
    "print(roc_auc_score(y_train, y_scores))"
   ]
  },
  {
   "cell_type": "code",
   "execution_count": 461,
   "metadata": {},
   "outputs": [
    {
     "name": "stdout",
     "output_type": "stream",
     "text": [
      "Confusion Matrix\n",
      "[[3177   30]\n",
      " [ 404    5]]\n",
      "\n",
      "Accuracy of logistic classifier on test set: 0.88\n",
      "\n",
      "              precision    recall  f1-score   support\n",
      "\n",
      "           0       0.89      0.99      0.94      3207\n",
      "           1       0.14      0.01      0.02       409\n",
      "\n",
      "   micro avg       0.88      0.88      0.88      3616\n",
      "   macro avg       0.52      0.50      0.48      3616\n",
      "weighted avg       0.80      0.88      0.83      3616\n",
      "\n",
      "ROC auc\n",
      "0.49995044458828214\n"
     ]
    }
   ],
   "source": [
    "from sklearn.naive_bayes import GaussianNB\n",
    "classifier = GaussianNB()\n",
    "classifier.fit(X_train, y_train)\n",
    "\n",
    "y_pred = classifier.predict(X_train)\n",
    "\n",
    "from sklearn.metrics import confusion_matrix\n",
    "confusion_matrix = confusion_matrix(y_train, y_pred)\n",
    "print(\"Confusion Matrix\")\n",
    "print(confusion_matrix)\n",
    "print()\n",
    "print('Accuracy of logistic classifier on test set: {:.2f}'.format(classifier.score(X_train, y_train)))\n",
    "print()\n",
    "from sklearn.metrics import classification_report\n",
    "print(classification_report(y_train, y_pred))\n",
    "\n",
    "from sklearn.model_selection import cross_val_predict\n",
    "y_scores = cross_val_predict(classifier, X_train, y_train, cv=3,\n",
    "                             method=\"predict\")\n",
    "\n",
    "print('ROC auc')\n",
    "print(roc_auc_score(y_train, y_scores))"
   ]
  },
  {
   "cell_type": "markdown",
   "metadata": {},
   "source": [
    "# ROC curve\n",
    "The receiver operating characterstic (ROC) curve, similar to the precision/recall curve, is a tool for evaluating models in predicting the intended target class in a classification problem. It is plotted as a curve of the True Positive Rate (TPR/Sensitivity) vs True Negative Rate (1-Specificity). In other words it represents the probability that a positive decision is a true positive of all possible positive targets vs the probability of returning a false positive out of all possibile negative targets. This juxtaposition helps illustrate a good model (e.g  where the increase in recall/TPR minimally increases the chance of false positives) vs a poor model (e.g. where the increase in recall drastically increased the chance of false positives). A perfect model would not generate any false positives but there is nearly always a tradeoff where the higher the recall/sensitivity (TPR) the more false positives (FPR) the classifier produces. The ROC in turn provides a measure of a model's predictive accuracy at various decision thresholds and allows for performance comparison against other models. The ROC Area Under the Curve (AUC) offers a simple score to compare classifiers using the ROC measure.\n",
    "\n",
    "As useful as it is, it the ROC is not a perfect measure and can overestimate the predictive accuracy in cases where positives are a rare occurrence in the dataset. In this case the PR curve may reveal room for improvement in recall. The F1 score, or the harmonic mean of precision and recall give more weight to low values will tend towarda a high score only if both recall and precision are high.\n",
    "\n",
    "This may be preferable in such cases to the ROC AUC in comparing classifiers\n",
    "\n",
    "Below the Naive bayes ROC is flat at .5, while the logistic regression shows a slightly better curve."
   ]
  },
  {
   "cell_type": "code",
   "execution_count": 463,
   "metadata": {},
   "outputs": [
    {
     "data": {
      "image/png": "[encoded data removed]",
      "text/plain": [
       "<Figure size 720x720 with 1 Axes>"
      ]
     },
     "metadata": {
      "needs_background": "light"
     },
     "output_type": "display_data"
    }
   ],
   "source": [
    "fig = plt.figure(figsize=(10,10))\n",
    "from sklearn.linear_model import LogisticRegression\n",
    "\n",
    "classifier = LogisticRegression(solver = 'liblinear')\n",
    "classifier.fit(X_train, y_train)\n",
    "\n",
    "from sklearn.model_selection import cross_val_predict\n",
    "y_scores = cross_val_predict(classifier, X_train, y_train, cv=3,method=\"decision_function\")\n",
    "\n",
    "from sklearn.metrics import roc_curve\n",
    "\n",
    "fpr, tpr, thresholds = roc_curve(y_train, y_scores)\n",
    "def plot_roc_curve(fpr, tpr, label=None):\n",
    "    plt.plot(fpr, tpr, linewidth=2, label=label)\n",
    "    plt.plot([0, 1], [0, 1], 'k--')\n",
    "    plt.axis([0, 1, 0, 1])\n",
    "    plt.xlabel('False Positive Rate')\n",
    "    plt.ylabel('True Positive Rate')\n",
    "\n",
    "plot_roc_curve(fpr, tpr)\n",
    "\n",
    "from sklearn.naive_bayes import GaussianNB\n",
    "\n",
    "classifier = GaussianNB()\n",
    "classifier.fit(X_train, y_train)\n",
    "\n",
    "from sklearn.model_selection import cross_val_predict\n",
    "y_scores = cross_val_predict(classifier, X_train, y_train, cv=3,method=\"predict\")\n",
    "                            \n",
    "from sklearn.metrics import roc_curve\n",
    "\n",
    "fpr, tpr, thresholds = roc_curve(y_train, y_scores)\n",
    "def plot_roc_curve(fpr, tpr, label=None):\n",
    "    plt.plot(fpr, tpr, linewidth=2, label=label)\n",
    "    plt.plot([0, 1], [0, 1], 'k--')\n",
    "    plt.axis([0, 1, 0, 1])\n",
    "    plt.xlabel('False Positive Rate')\n",
    "    plt.ylabel('True Positive Rate')\n",
    "\n",
    "\n",
    "\n",
    "plot_roc_curve(fpr, tpr)\n",
    "plt.show()"
   ]
  },
  {
   "cell_type": "markdown",
   "metadata": {},
   "source": [
    "# Summary\n",
    "\n",
    "The response rate in this dataset is ~12%. It is difficult to make predictions with a rare response and perhaps would lend itself better to a model suitable for this kind of problem. Perhaps a Poisson distribution would provide a better model of rare events. Since this is an approximation of the binomial distribution it may be possible to use logistic regression given a larger dataset?\n",
    "\n",
    "Regardless of the poor performance of the models in this assignment it is clear that the logistic regression returns decisions with a poorer recall compared with the naive bayes model. The F1 score confirms this despite a superior ROC auc in logistic regression compared with naive bayes.\n",
    "\n",
    "Where naive bayes returns 5 true positive, logistic regression return none. Testing this with other random seeds, thresholds, and sampling sizes returns similarly poor performance results but the differences between logistic regression and naive bayes are maintained with a higher ROC in logistic regression and a higher F1 in bayes.\n",
    "\n",
    "\n",
    "Regarding the management problem, these results suggest another approach may be more appropriate including models better suited to predicted rare events. Looking at descriptive results banking clients who do not have a loan or a house appear to be the best target for direct marketing efforts?"
   ]
  },
  {
   "cell_type": "code",
   "execution_count": null,
   "metadata": {},
   "outputs": [],
   "source": []
  }
 ],
 "metadata": {
  "kernelspec": {
   "display_name": "Python 3",
   "language": "python",
   "name": "python3"
  },
  "language_info": {
   "codemirror_mode": {
    "name": "ipython",
    "version": 3
   },
   "file_extension": ".py",
   "mimetype": "text/x-python",
   "name": "python",
   "nbconvert_exporter": "python",
   "pygments_lexer": "ipython3",
   "version": "3.7.1"
  }
 },
 "nbformat": 4,
 "nbformat_minor": 2
}
