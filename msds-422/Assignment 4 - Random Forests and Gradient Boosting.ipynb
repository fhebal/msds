{
 "cells": [
  {
   "cell_type": "markdown",
   "metadata": {},
   "source": [
    "# Assignment 4 - Random Forests and Gradient Boosting\n",
    "MSDS 422 - SEC 57 THURSDAY\n",
    "\n",
    "FERDYNAND HEBAL - 7/21/2019"
   ]
  },
  {
   "cell_type": "markdown",
   "metadata": {},
   "source": [
    "In this assignment, linear, elastic net, random forest, and gradient boost regression are evaluated using root mean-squared error (RMSE) as an index of prediction error. All explanatory variables (with the exception of neighborhood) and all 506 census tract observations from the Boston Housing Study are used to predict the response variable: the median value of homes.\n",
    "\n",
    "Regarding the management problem, these results suggest that Gradient Boost Regression with Early stopping is the better model given its low RMSE compared to the others and accounting for overfitting."
   ]
  },
  {
   "cell_type": "code",
   "execution_count": 1,
   "metadata": {},
   "outputs": [],
   "source": [
    "# import base packages into the namespace for this program\n",
    "import numpy as np\n",
    "import pandas as pd\n",
    "%matplotlib inline\n",
    "import matplotlib.pyplot as plt\n",
    "from sklearn.linear_model import LinearRegression, Ridge, Lasso, ElasticNet\n",
    "from sklearn.ensemble import GradientBoostingRegressor, RandomForestRegressor\n",
    "from sklearn.metrics import mean_squared_error\n",
    "from sklearn.model_selection import train_test_split\n",
    "from sklearn.model_selection import cross_val_score, cross_val_predict"
   ]
  },
  {
   "cell_type": "code",
   "execution_count": 2,
   "metadata": {},
   "outputs": [],
   "source": [
    "def scoring(reg, y_test,X_test, y_train, X_train):\n",
    "    y_pred = reg.predict(X_train)\n",
    "    print(\"RMSE train\",np.sqrt(mean_squared_error(y_train, y_pred)))\n",
    "    y_pred = reg.predict(X_test)\n",
    "    print(\"RMSE test\",np.sqrt(mean_squared_error(y_test, y_pred)))\n",
    "    scores = np.sqrt(-1 * cross_val_score(reg, X_test, y_test, cv=6, scoring = 'neg_mean_squared_error'))\n",
    "    print(\"Cross-validated RMSE on Test Data:\")\n",
    "    print(scores)"
   ]
  },
  {
   "cell_type": "code",
   "execution_count": 3,
   "metadata": {},
   "outputs": [],
   "source": [
    "def plot_pred(reg, y_test,X_test, y_train, X_train):\n",
    "    predictions = cross_val_predict(reg, X_test, y_test, cv=6) # Make cross validated predictions\n",
    "    plt.scatter(y_test, predictions)\n",
    "    plt.title('y_test vs y_pred')"
   ]
  },
  {
   "cell_type": "markdown",
   "metadata": {},
   "source": [
    "# Data preparation, exploration, visualization\n",
    "Below I perform light data processing per the python starter code, including removal neighborhood feature and printing dataset detail using .head, .info, and .describe"
   ]
  },
  {
   "cell_type": "code",
   "execution_count": 4,
   "metadata": {},
   "outputs": [
    {
     "name": "stdout",
     "output_type": "stream",
     "text": [
      "  neighborhood     crim    zn  indus  chas    nox  rooms   age     dis  rad  \\\n",
      "0       Nahant  0.00632  18.0   2.31     0  0.538  6.575  65.2  4.0900    1   \n",
      "1   Swampscott  0.02731   0.0   7.07     0  0.469  6.421  78.9  4.9671    2   \n",
      "2   Swanpscott  0.02729   0.0   7.07     0  0.469  7.185  61.1  4.9671    2   \n",
      "3   Marblehead  0.03237   0.0   2.18     0  0.458  6.998  45.8  6.0622    3   \n",
      "4   Marblehead  0.06905   0.0   2.18     0  0.458  7.147  54.2  6.0622    3   \n",
      "\n",
      "   tax  ptratio  lstat    mv  \n",
      "0  296     15.3   4.98  24.0  \n",
      "1  242     17.8   9.14  21.6  \n",
      "2  242     17.8   4.03  34.7  \n",
      "3  222     18.7   2.94  33.4  \n",
      "4  222     18.7   5.33  36.2  \n"
     ]
    }
   ],
   "source": [
    "#Starter code from Assignment page in canvas\n",
    "RANDOM_SEED = 1\n",
    "boston_input = pd.read_csv('boston.csv')\n",
    "boston = boston_input.drop('neighborhood', 1)# drop neighborhood from the data being considered\n",
    "print(boston_input.head())"
   ]
  },
  {
   "cell_type": "code",
   "execution_count": 5,
   "metadata": {},
   "outputs": [
    {
     "name": "stdout",
     "output_type": "stream",
     "text": [
      "<class 'pandas.core.frame.DataFrame'>\n",
      "RangeIndex: 506 entries, 0 to 505\n",
      "Data columns (total 13 columns):\n",
      "crim       506 non-null float64\n",
      "zn         506 non-null float64\n",
      "indus      506 non-null float64\n",
      "chas       506 non-null int64\n",
      "nox        506 non-null float64\n",
      "rooms      506 non-null float64\n",
      "age        506 non-null float64\n",
      "dis        506 non-null float64\n",
      "rad        506 non-null int64\n",
      "tax        506 non-null int64\n",
      "ptratio    506 non-null float64\n",
      "lstat      506 non-null float64\n",
      "mv         506 non-null float64\n",
      "dtypes: float64(10), int64(3)\n",
      "memory usage: 51.5 KB\n"
     ]
    }
   ],
   "source": [
    "boston.info()"
   ]
  },
  {
   "cell_type": "code",
   "execution_count": 6,
   "metadata": {},
   "outputs": [
    {
     "name": "stdout",
     "output_type": "stream",
     "text": [
      "             crim          zn       indus        chas         nox       rooms  \\\n",
      "count  506.000000  506.000000  506.000000  506.000000  506.000000  506.000000   \n",
      "mean     3.613524   11.363636   11.136779    0.069170    0.554695    6.284634   \n",
      "std      8.601545   23.322453    6.860353    0.253994    0.115878    0.702617   \n",
      "min      0.006320    0.000000    0.460000    0.000000    0.385000    3.561000   \n",
      "25%      0.082045    0.000000    5.190000    0.000000    0.449000    5.885500   \n",
      "50%      0.256510    0.000000    9.690000    0.000000    0.538000    6.208500   \n",
      "75%      3.677082   12.500000   18.100000    0.000000    0.624000    6.623500   \n",
      "max     88.976200  100.000000   27.740000    1.000000    0.871000    8.780000   \n",
      "\n",
      "              age         dis         rad         tax     ptratio       lstat  \\\n",
      "count  506.000000  506.000000  506.000000  506.000000  506.000000  506.000000   \n",
      "mean    68.574901    3.795043    9.549407  408.237154   18.455534   12.653063   \n",
      "std     28.148861    2.105710    8.707259  168.537116    2.164946    7.141062   \n",
      "min      2.900000    1.129600    1.000000  187.000000   12.600000    1.730000   \n",
      "25%     45.025000    2.100175    4.000000  279.000000   17.400000    6.950000   \n",
      "50%     77.500000    3.207450    5.000000  330.000000   19.050000   11.360000   \n",
      "75%     94.075000    5.188425   24.000000  666.000000   20.200000   16.955000   \n",
      "max    100.000000   12.126500   24.000000  711.000000   22.000000   37.970000   \n",
      "\n",
      "               mv  \n",
      "count  506.000000  \n",
      "mean    22.528854  \n",
      "std      9.182176  \n",
      "min      5.000000  \n",
      "25%     17.025000  \n",
      "50%     21.200000  \n",
      "75%     25.000000  \n",
      "max     50.000000  \n"
     ]
    }
   ],
   "source": [
    "print(boston.describe())"
   ]
  },
  {
   "cell_type": "code",
   "execution_count": 7,
   "metadata": {},
   "outputs": [
    {
     "name": "stdout",
     "output_type": "stream",
     "text": [
      "\n",
      "Data dimensions: (506, 13)\n"
     ]
    }
   ],
   "source": [
    "model_data = np.array([boston.mv,\\\n",
    "    boston.crim,\\\n",
    "    boston.zn,\\\n",
    "    boston.indus,\\\n",
    "    boston.chas,\\\n",
    "    boston.nox,\\\n",
    "    boston.rooms,\\\n",
    "    boston.age,\\\n",
    "    boston.dis,\\\n",
    "    boston.rad,\\\n",
    "    boston.tax,\\\n",
    "    boston.ptratio,\\\n",
    "    boston.lstat]).T\n",
    "\n",
    "# dimensions of the polynomial model X input and y response preliminary data before standardization\n",
    "print('\\nData dimensions:', model_data.shape)"
   ]
  },
  {
   "cell_type": "markdown",
   "metadata": {},
   "source": [
    "# Review research design and modeling methods\n",
    "Splitting test and training data will help to avoid snooping bias and overfitting, I use the sklearn train_test_split function and set 20% test size. Below this, linear, elastic net, random forest, and gradient boost regression are compared using root mean-squared error (RMSE) as an index of prediction error in a cross validation framework"
   ]
  },
  {
   "cell_type": "code",
   "execution_count": 8,
   "metadata": {},
   "outputs": [],
   "source": [
    "y = model_data[:,0]\n",
    "X = model_data[:,1:]\n",
    "X_train, X_test, y_train, y_test = train_test_split(X, y, test_size=0.5)\n",
    "\n",
    "# standard scores for the columns... along axis 0\n",
    "from sklearn.preprocessing import StandardScaler\n",
    "scaler = StandardScaler()\n",
    "X_train = scaler.fit_transform(X_train)\n",
    "\n",
    "# standard scores for the columns... along axis 0\n",
    "from sklearn.preprocessing import StandardScaler\n",
    "scaler = StandardScaler()\n",
    "X_test = scaler.fit_transform(X_test)"
   ]
  },
  {
   "cell_type": "code",
   "execution_count": 9,
   "metadata": {},
   "outputs": [
    {
     "name": "stdout",
     "output_type": "stream",
     "text": [
      "RMSE train 3.678516851276526\n",
      "RMSE test 5.692514568898426\n",
      "Cross-validated RMSE on Test Data:\n",
      "[5.86544912 6.0176725  5.31145529 5.31639288 5.39054816 6.01649254]\n"
     ]
    }
   ],
   "source": [
    "reg = LinearRegression(fit_intercept=True)\n",
    "reg.fit(X_train, y_train)\n",
    "scoring(reg, y_test, X_test, y_train, X_train)"
   ]
  },
  {
   "cell_type": "markdown",
   "metadata": {},
   "source": [
    "Elastic Net is a middle ground between Ridge and Lasso Regression. The regularization term is mix of both Ridge and Lasso’s regularization terms. Here the ratio is set to .5, in the middle between lasso and ridge"
   ]
  },
  {
   "cell_type": "code",
   "execution_count": 10,
   "metadata": {},
   "outputs": [
    {
     "name": "stdout",
     "output_type": "stream",
     "text": [
      "RMSE train 3.737762077811484\n",
      "RMSE test 5.822454861490753\n",
      "Cross-validated RMSE on Test Data:\n",
      "[5.86462664 6.2678568  5.35605872 5.3299158  4.94638757 6.1558986 ]\n"
     ]
    }
   ],
   "source": [
    "reg = ElasticNet(alpha=0.1, l1_ratio=.5)\n",
    "reg.fit(X_train, y_train)\n",
    "scoring(reg, y_test, X_test, y_train, X_train)"
   ]
  },
  {
   "cell_type": "markdown",
   "metadata": {},
   "source": [
    "Random Forests work by training many Decision Trees on random subsets of the features, then averaging out their predictions, generally using bagging allowing training instances to be sampled several times for the same predictor. Random forest regression results in a better RMSE than ElasticNet and linear regression. Testing several values for the meta-parameter \"max-features\" it is clear that RMSE improves the great the number of features utilized. Presumably, the cost of including more features is greater processing power required and the risk of overfitting. Indeed runtime and disparity between test and train RMSE are greatest when all 12 features are included"
   ]
  },
  {
   "cell_type": "code",
   "execution_count": 11,
   "metadata": {},
   "outputs": [
    {
     "name": "stdout",
     "output_type": "stream",
     "text": [
      "71.7 ms ± 649 µs per loop (mean ± std. dev. of 7 runs, 10 loops each)\n",
      "RMSE train 3.6557435995447425\n",
      "RMSE test 5.867086939034335\n",
      "Cross-validated RMSE on Test Data:\n",
      "[5.94064552 5.26727172 5.43809882 4.65001151 3.94692711 5.80232376]\n"
     ]
    }
   ],
   "source": [
    "reg = RandomForestRegressor(max_depth=2, n_estimators=100, max_features = 12, bootstrap = True)\n",
    "%timeit reg.fit(X_train, y_train)\n",
    "scoring(reg, y_test, X_test, y_train, X_train)"
   ]
  },
  {
   "cell_type": "code",
   "execution_count": 12,
   "metadata": {},
   "outputs": [
    {
     "name": "stdout",
     "output_type": "stream",
     "text": [
      "61.8 ms ± 306 µs per loop (mean ± std. dev. of 7 runs, 10 loops each)\n",
      "RMSE train 3.735770916405193\n",
      "RMSE test 5.899206668171853\n",
      "Cross-validated RMSE on Test Data:\n",
      "[5.66882078 5.86309394 5.45954814 3.80330828 4.48972482 5.69492121]\n"
     ]
    }
   ],
   "source": [
    "reg = RandomForestRegressor(max_depth=2, n_estimators=100, max_features = 5, bootstrap = True)\n",
    "%timeit reg.fit(X_train, y_train)\n",
    "scoring(reg, y_test, X_test, y_train, X_train)"
   ]
  },
  {
   "cell_type": "code",
   "execution_count": 13,
   "metadata": {},
   "outputs": [
    {
     "name": "stdout",
     "output_type": "stream",
     "text": [
      "55.9 ms ± 750 µs per loop (mean ± std. dev. of 7 runs, 10 loops each)\n",
      "RMSE train 5.723207593063165\n",
      "RMSE test 7.283665276673016\n",
      "Cross-validated RMSE on Test Data:\n",
      "[7.15929914 7.69320371 6.49770868 5.85405961 6.49497634 7.25470058]\n"
     ]
    }
   ],
   "source": [
    "reg = RandomForestRegressor(max_depth=2, n_estimators=100, max_features = 1, bootstrap = True)\n",
    "%timeit reg.fit(X_train, y_train)\n",
    "scoring(reg, y_test, X_test, y_train, X_train)"
   ]
  },
  {
   "cell_type": "markdown",
   "metadata": {},
   "source": [
    "Boosting combines several weak learners into a strong learner by training predictors sequentially, each trying to correct its predecessor. Gradient Boosting sequentially adds predictors to an ensemble by fitting to the new predictor to the residual errors made by the previous predictor. The RMSE on training data is ~half that of that on test data, suggests overfitting"
   ]
  },
  {
   "cell_type": "code",
   "execution_count": 14,
   "metadata": {},
   "outputs": [
    {
     "name": "stdout",
     "output_type": "stream",
     "text": [
      "RMSE train 0.8786461540717616\n",
      "RMSE test 6.256258239617806\n",
      "Cross-validated RMSE on Test Data:\n",
      "[7.16686188 5.89586584 7.08356695 6.19305545 5.61731777 5.74613196]\n"
     ]
    }
   ],
   "source": [
    "reg = GradientBoostingRegressor(max_depth=2, n_estimators=100, learning_rate=1.0, max_features = 1 )\n",
    "reg.fit(X_train, y_train)\n",
    "scoring(reg, y_test, X_test, y_train, X_train)"
   ]
  },
  {
   "cell_type": "markdown",
   "metadata": {},
   "source": [
    "Results using an optimized implementation of Gradient Boosting available in the python XGBoost library are demonstrated below. Overfitting still seems apparant, though the RMSE on train and test datasets are closer"
   ]
  },
  {
   "cell_type": "code",
   "execution_count": 15,
   "metadata": {},
   "outputs": [
    {
     "name": "stdout",
     "output_type": "stream",
     "text": [
      "RMSE train 1.1788439589981203\n",
      "RMSE test 4.705768316266658\n",
      "Cross-validated RMSE on Test Data:\n",
      "[4.97917782 3.03119802 2.91638629 3.26893436 3.92381541 3.12911646]\n"
     ]
    }
   ],
   "source": [
    "import xgboost as xgb\n",
    "reg = xgb.XGBRegressor(objective = 'reg:squarederror', verbosity =0)\n",
    "reg.fit(X_train, y_train)\n",
    "scoring(reg, y_test, X_test, y_train, X_train)"
   ]
  },
  {
   "cell_type": "markdown",
   "metadata": {},
   "source": [
    "XGBoost conveniently offers automatic handling of \"early stopping\", which attempts to avoid overfitting by selecting the inflection point where performance on test data begins to decrease while performance on training data improves, i.e. when the model begins to overfit. The results are an apparent improvement compared to modeling without early stopping. Ultimately this is the best performing of all models tested thus far. "
   ]
  },
  {
   "cell_type": "code",
   "execution_count": 16,
   "metadata": {
    "scrolled": false
   },
   "outputs": [
    {
     "name": "stdout",
     "output_type": "stream",
     "text": [
      "RMSE train 1.3658115858456026\n",
      "RMSE test 4.729054153858811\n",
      "Cross-validated RMSE on Test Data:\n",
      "[4.97917782 3.03119802 2.91638629 3.26893436 3.92381541 3.12911646]\n"
     ]
    },
    {
     "data": {
      "image/png": "[encoded data removed]",
      "text/plain": [
       "<Figure size 432x288 with 1 Axes>"
      ]
     },
     "metadata": {
      "needs_background": "light"
     },
     "output_type": "display_data"
    }
   ],
   "source": [
    "reg.fit(X_train, y_train,eval_set=[(X_test, y_test)], early_stopping_rounds=2,verbose=False)\n",
    "scoring(reg, y_test, X_test, y_train, X_train)\n",
    "plot_pred(reg, y_test,X_test, y_train, X_train)"
   ]
  },
  {
   "cell_type": "markdown",
   "metadata": {},
   "source": [
    "Similar to scikitlearns RandomForestRegressor, the XGBoost library provides a built-in function to plot features ordered by their importance."
   ]
  },
  {
   "cell_type": "code",
   "execution_count": 17,
   "metadata": {},
   "outputs": [
    {
     "data": {
      "image/png": "[encoded data removed]",
      "text/plain": [
       "<Figure size 432x288 with 1 Axes>"
      ]
     },
     "metadata": {
      "needs_background": "light"
     },
     "output_type": "display_data"
    },
    {
     "name": "stdout",
     "output_type": "stream",
     "text": [
      "crim 0.050445225\n",
      "zn 0.0016578967\n",
      "indus 0.0093538705\n",
      "chas 0.010022987\n",
      "nox 0.057359092\n",
      "rooms 0.6186284\n",
      "age 0.012754135\n",
      "dis 0.02756746\n",
      "rad 0.008066746\n",
      "tax 0.0187435\n",
      "ptratio 0.032936893\n",
      "lstat 0.15246384\n"
     ]
    }
   ],
   "source": [
    "xgb.plot_importance(reg)\n",
    "plt.show()\n",
    "feature_names = ['crim','zn','indus','chas','nox','rooms'\n",
    "                 ,'age','dis','rad','tax','ptratio','lstat']\n",
    "for col,score in zip(feature_names,reg.feature_importances_):\n",
    "    print(col,score)"
   ]
  },
  {
   "cell_type": "markdown",
   "metadata": {},
   "source": [
    "# Summary\n",
    "\n",
    "Regarding the management problem, these results suggest that gradient boosting regression with automatic early stopping is the better model given its low RMSE compared to the all other models and the reduced disparity between RMSE on test vs train data compared to random forest and gradient boost without early stopping. Gradient boosting with early stopping would be my recommendation to management for a machine learning complement to conventional methods for assessing the market value of residential real estate. "
   ]
  }
 ],
 "metadata": {
  "kernelspec": {
   "display_name": "Python 3",
   "language": "python",
   "name": "python3"
  },
  "language_info": {
   "codemirror_mode": {
    "name": "ipython",
    "version": 3
   },
   "file_extension": ".py",
   "mimetype": "text/x-python",
   "name": "python",
   "nbconvert_exporter": "python",
   "pygments_lexer": "ipython3",
   "version": "3.7.3"
  }
 },
 "nbformat": 4,
 "nbformat_minor": 2
}
