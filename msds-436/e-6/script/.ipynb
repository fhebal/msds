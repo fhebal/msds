{
 "cells": [
  {
   "cell_type": "code",
   "execution_count": 1,
   "metadata": {},
   "outputs": [],
   "source": [
    "import os\n",
    "import sys\n",
    "import glob\n",
    "import boto3"
   ]
  },
  {
   "cell_type": "code",
   "execution_count": 2,
   "metadata": {},
   "outputs": [],
   "source": [
    "# THIS DEMONSTRATES HOW TO IMPORT LOCAL/CUSTOM SCRIPTS AS MODULES IN THE NOTEBOOK\n",
    "# E.G. The referenced file \"awsapi.py\" is in /home/ec2-user/scripts \n",
    "# The current notebook is /home/ec2-user/notebooks\n",
    "\n",
    "# Below command adds \"/home/ec2-user\" to system's PATH variable & loads scripts/awsapi.py as module\n",
    "\n",
    "module_path = os.path.abspath(os.path.join('..'))\n",
    "if module_path not in sys.path:\n",
    "    sys.path.append(module_path)\n",
    "\n",
    "from scripts.awsapi import upload_file, list_objects"
   ]
  },
  {
   "cell_type": "code",
   "execution_count": 3,
   "metadata": {},
   "outputs": [],
   "source": [
    "# UPLOAD FILES TO S3 BUCKET \"aws-big-data-project\" & DIRECTORY \"input_files\" UNDER IT\n",
    "# Change the bucket name to you bucket name\n",
    "\n",
    "bucket_name = 'session6-exercises'\n",
    "remote_dir  = 'data/'\n",
    "in_path = '/home/ec2-user/data/'\n",
    "\n",
    "for doc in glob.glob(in_path+'*.txt'):\n",
    "    \n",
    "    split_doc = doc.split('/')\n",
    "    local_dir = '/'.join(split_doc[:-1]) + '/'\n",
    "    fn = split_doc[-1]\n",
    "    \n",
    "    upload_file(bucket_name, local_dir, fn, remote_dir)"
   ]
  },
  {
   "cell_type": "code",
   "execution_count": 4,
   "metadata": {},
   "outputs": [
    {
     "name": "stdout",
     "output_type": "stream",
     "text": [
      "['input_files/Austen1.txt', 'input_files/Austen2.txt', 'input_files/Austen3.txt', 'input_files/Austen4.txt', 'input_files/Austen5.txt', 'input_files/Dickens1.txt', 'input_files/Dickens2.txt', 'input_files/Dickens3.txt', 'input_files/Dickens4.txt', 'input_files/Dickens5.txt', 'input_files/Twain1.txt', 'input_files/Twain2.txt', 'input_files/Twain3.txt', 'input_files/Twain4.txt', 'input_files/Twain5.txt']\n"
     ]
    }
   ],
   "source": [
    "files= list_objects('session6-exercises', 'data')\n",
    "print(files)"
   ]
  },
  {
   "cell_type": "code",
   "execution_count": null,
   "metadata": {},
   "outputs": [],
   "source": []
  }
 ],
 "metadata": {
  "kernelspec": {
   "display_name": "Python 3",
   "language": "python",
   "name": "python3"
  },
  "language_info": {
   "codemirror_mode": {
    "name": "ipython",
    "version": 3
   },
   "file_extension": ".py",
   "mimetype": "text/x-python",
   "name": "python",
   "nbconvert_exporter": "python",
   "pygments_lexer": "ipython3",
   "version": "3.7.4"
  }
 },
 "nbformat": 4,
 "nbformat_minor": 2
}
