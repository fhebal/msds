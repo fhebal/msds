{
 "cells": [
  {
   "cell_type": "code",
   "execution_count": null,
   "metadata": {},
   "outputs": [],
   "source": [
    "def conv_stacker(model, number_of_layers):\n",
    "    if number_of_layers > 0\n",
    "        for layer in range(number_of_layers):\n",
    "            model.add(layers.Conv2D(filters=filters, kernel_size=(3, 3), strides=(1, 1), activation=activation)\n",
    "            model.add(layers.MaxPooling2D((2, 2),strides=2))\n",
    "    return model\n",
    "\n",
    "def dense_stacker(model, number_of_layers):\n",
    "    if number_of_layers > 0\n",
    "        for layer in range(number_of_layers):\n",
    "            model.add(layers.Dense(units=units, activation=activation))\n",
    "    return model\n",
    "\n",
    "def create_model(conv_layers=0, dense_layers=0, filters=64, units=1024, optimizer='adam', activation='relu', loss='sparse_categorical_crossentropy'):\n",
    "    # Create model\n",
    "    model = Sequential()\n",
    "    model = models.Sequential()\n",
    "    model.add(layers.Conv2D(filters=filters, kernel_size=(3, 3), strides=(1, 1), activation=activation, input_shape=(28, 28, 1)))\n",
    "    model.add(layers.MaxPooling2D((2, 2),strides=2))\n",
    "    model = dense_stacker(model, number_of_layers=conv_layers)\n",
    "    model.add(layers.Flatten())\n",
    "    model.add(layers.Dense(units=units, activation=activation))\n",
    "    model = dense_stacker(model, number_of_layers=dense_layers)\n",
    "    model.add(layers.Dense(units=10, activation=tf.nn.softmax))\n",
    "    \n",
    "    # Compile model\n",
    "    model.compile(loss=loss, optimizer=optimizer, metrics=['accuracy'])\n",
    "    return model\n",
    "\n",
    "model = KerasClassifier(build_fn=create_model)\n",
    "\n",
    "# grid search parameters\n",
    "units = [64]\n",
    "filters = [64]\n",
    "epochs = [10]\n",
    "batches = [512]\n",
    "conv_layers = [1, 2, 3]\n",
    "dense_layers = [0]\n",
    "\n",
    "param_grid = dict(\n",
    "    units=units,\n",
    "    filters = filters,\n",
    "    nb_epoch=epochs,\n",
    "    batch_size=batches,\n",
    "    conv_layers = conv_layers,\n",
    "    dense_layers = dense_layers\n",
    ")\n",
    "grid_result = GridSearchCV(estimator=model, param_grid=param_grid, cv=3).fit(train_images_norm, train_labels)\n",
    "print_results(grid_result)\n"
   ]
  }
 ],
 "metadata": {
  "kernelspec": {
   "display_name": "Python 3",
   "language": "python",
   "name": "python3"
  },
  "language_info": {
   "codemirror_mode": {
    "name": "ipython",
    "version": 3
   },
   "file_extension": ".py",
   "mimetype": "text/x-python",
   "name": "python",
   "nbconvert_exporter": "python",
   "pygments_lexer": "ipython3",
   "version": "3.8.5"
  }
 },
 "nbformat": 4,
 "nbformat_minor": 4
}
