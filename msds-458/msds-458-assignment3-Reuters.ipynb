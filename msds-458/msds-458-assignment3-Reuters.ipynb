{
 "cells": [
  {
   "cell_type": "markdown",
   "metadata": {},
   "source": [
    "<img src=\"https://github.com/djp840/MSDS_458_Public/blob/master/images/NorthwesternHeader.png?raw=1\">"
   ]
  },
  {
   "cell_type": "raw",
   "metadata": {},
   "source": [
    "Ferdynand Hebal"
   ]
  },
  {
   "cell_type": "markdown",
   "metadata": {},
   "source": [
    "## MSDS458 Research Assignment 3\n",
    "\n",
    "The goal is to compare `RNN` and `LSTM` on `Reuters News Wire` data.\n",
    "\n",
    "<div class=\"alert alert-block alert-success\">\n",
    "    <b>More Technical</b>: Throughout the notebook. This types of boxes provide more technical details and extra references about what you are seeing. They contain helpful tips, but you can safely skip them the first time you run through the code.\n",
    "</div>"
   ]
  },
  {
   "cell_type": "markdown",
   "metadata": {},
   "source": [
    "## Import packages \n"
   ]
  },
  {
   "cell_type": "code",
   "execution_count": 2,
   "metadata": {},
   "outputs": [],
   "source": [
    "# Helper libraries\n",
    "import datetime\n",
    "from packaging import version\n",
    "import matplotlib.pyplot as plt\n",
    "from mpl_toolkits.mplot3d import Axes3D\n",
    "import seaborn as sns\n",
    "from sklearn.metrics import confusion_matrix\n",
    "from sklearn.preprocessing import StandardScaler\n",
    "from sklearn.decomposition import PCA\n",
    "from sklearn.manifold import TSNE\n",
    "from sklearn.ensemble import RandomForestClassifier\n",
    "\n",
    "from collections import Counter\n",
    "import numpy as np\n",
    "import pandas as pd\n",
    "\n",
    "# TensorFlow and tf.keras\n",
    "import tensorflow as tf\n",
    "from tensorflow.keras.utils import to_categorical\n",
    "from tensorflow import keras\n",
    "from tensorflow.keras import preprocessing\n",
    "from tensorflow.keras import models, layers\n",
    "from tensorflow.keras.models import Sequential\n",
    "from tensorflow.keras.layers import Embedding, SimpleRNN,RNN, LSTM\n",
    "from tensorflow.keras.layers import Dense, Flatten\n",
    "from tensorflow.keras.layers import Conv1D, Conv2D, MaxPooling2D, BatchNormalization, MaxPooling1D\n",
    "from tensorflow.keras.layers import Dropout, Flatten, Input, Dense\n",
    "from tensorflow.keras.datasets import reuters\n",
    "\n",
    "# GridSearch Dependencies\n",
    "from keras.wrappers.scikit_learn import KerasClassifier\n",
    "from sklearn.model_selection import GridSearchCV\n",
    "\n",
    "def print_results(grid_result):\n",
    "    para = pd.DataFrame.from_dict(grid_result.cv_results_['params'])\n",
    "    mean = pd.DataFrame(grid_result.cv_results_['mean_test_score'],columns=['mean_test_score'])\n",
    "    stds = pd.DataFrame(grid_result.cv_results_['std_test_score'],columns=['std_test_score'])\n",
    "    time = pd.DataFrame(grid_result.cv_results_['mean_fit_time'],columns=['mean_fit_time'])\n",
    "\n",
    "    df = para.join(mean.join(stds)).join(time).sort_values('mean_test_score', ascending=False)\n",
    "    df.reset_index().drop(columns=['index'])\n",
    "    return df"
   ]
  },
  {
   "cell_type": "code",
   "execution_count": 3,
   "metadata": {},
   "outputs": [],
   "source": [
    "%matplotlib inline\n",
    "np.set_printoptions(precision=3, suppress=True)"
   ]
  },
  {
   "cell_type": "markdown",
   "metadata": {},
   "source": [
    "### Verify TensorFlow Version and Keras Version"
   ]
  },
  {
   "cell_type": "code",
   "execution_count": 4,
   "metadata": {},
   "outputs": [
    {
     "name": "stdout",
     "output_type": "stream",
     "text": [
      "This notebook requires TensorFlow 2.0 or above\n",
      "TensorFlow version:  2.3.1\n"
     ]
    }
   ],
   "source": [
    "print(\"This notebook requires TensorFlow 2.0 or above\")\n",
    "print(\"TensorFlow version: \", tf.__version__)\n",
    "assert version.parse(tf.__version__).release[0] >=2"
   ]
  },
  {
   "cell_type": "code",
   "execution_count": 5,
   "metadata": {},
   "outputs": [
    {
     "name": "stdout",
     "output_type": "stream",
     "text": [
      "Keras version:  2.4.0\n"
     ]
    }
   ],
   "source": [
    "print(\"Keras version: \", keras.__version__)"
   ]
  },
  {
   "cell_type": "markdown",
   "metadata": {},
   "source": [
    "<div class=\"alert alert-block alert-info\">\n",
    "    <b>Suppress warning messages</b></div>"
   ]
  },
  {
   "cell_type": "code",
   "execution_count": 6,
   "metadata": {},
   "outputs": [],
   "source": [
    "def warn(*args, **kwargs):\n",
    "    pass\n",
    "import warnings\n",
    "warnings.warn = warn"
   ]
  },
  {
   "cell_type": "markdown",
   "metadata": {},
   "source": [
    "### Mount Google Drive to Colab Environment"
   ]
  },
  {
   "cell_type": "code",
   "execution_count": 7,
   "metadata": {},
   "outputs": [],
   "source": [
    "#from google.colab import drive\n",
    "#drive.mount('/content/gdrive')"
   ]
  },
  {
   "cell_type": "markdown",
   "metadata": {},
   "source": [
    "## Loading Reuters dataset\n",
    "\n",
    "We will be working with the Reuters dataset, a set of short newswires and their topics, published by Reuters in 1986. It's a very simple, widely used toy dataset for text classification. This is a dataset of 11,228 newswires from Reuters, labeled over 46 topics. Some topics are more represented than others, but each topic has at least 10 examples in the training set.\n",
    "\n",
    "Like MNIST and Fashion MNIST, the Reuters dataset comes packaged as part of Keras.\n",
    "<div class=\"alert alert-block alert-success\">\n",
    "\"Each newswire is encoded as a list of word indexes (integers). For convenience, words are indexed by overall frequency in the dataset, so that for instance the integer \"3\" encodes the 3rd most frequent word in the data. This allows for quick filtering operations such as: \"only consider the top 10,000 most common words, but eliminate the top 20 most common words\".</div>"
   ]
  },
  {
   "cell_type": "markdown",
   "metadata": {},
   "source": [
    "<div class=\"alert alert-block alert-info\">\n",
    "<b>tf.keras.datasets.reuters.load_data</b><br>\n",
    "https://www.tensorflow.org/api_docs/python/tf/keras/datasets/reuters/load_data\n",
    "</div>"
   ]
  },
  {
   "cell_type": "code",
   "execution_count": 8,
   "metadata": {},
   "outputs": [],
   "source": [
    "(data, labels), (_, _) = tf.keras.datasets.reuters.load_data(\n",
    "                                      path='reuters.npz', num_words=None, skip_top=0, maxlen=None, test_split=0,\n",
    "                                      seed=113, start_char=1, oov_char=2, index_from=3)"
   ]
  },
  {
   "cell_type": "markdown",
   "metadata": {},
   "source": [
    "## EDA Reuters Dataset"
   ]
  },
  {
   "cell_type": "code",
   "execution_count": 9,
   "metadata": {},
   "outputs": [
    {
     "name": "stdout",
     "output_type": "stream",
     "text": [
      "There are 11228 Reuters News Articles with 11228 labels.\n",
      "There are 46 different label categories.\n"
     ]
    }
   ],
   "source": [
    "print(f\"There are {len(data)} Reuters News Articles with {len(labels)} labels.\") \n",
    "print(f\"There are {len(set(labels))} different label categories.\")"
   ]
  },
  {
   "cell_type": "code",
   "execution_count": 10,
   "metadata": {},
   "outputs": [
    {
     "name": "stdout",
     "output_type": "stream",
     "text": [
      "The first five labels: [ 3  4  3  4  4  4  4  3  3 16]\n"
     ]
    }
   ],
   "source": [
    "print(f\"The first five labels: {labels[:10]}\")"
   ]
  },
  {
   "cell_type": "markdown",
   "metadata": {},
   "source": [
    "## Mapping of classes to indices \n",
    "keeps track of our mapping of label values to the label indices, where the indices are actually predicted by our model. The label_map can map the label class back to the label name."
   ]
  },
  {
   "cell_type": "code",
   "execution_count": 11,
   "metadata": {},
   "outputs": [],
   "source": [
    "class_to_idx =  \\\n",
    "{'copper': 6, 'livestock': 28, 'gold': 25, \n",
    " 'money-fx': 19, 'ipi': 30, 'trade': 11, \n",
    " 'cocoa': 0, 'iron-steel': 31, 'reserves': 12, \n",
    " 'tin': 26, 'zinc': 37, 'jobs': 34, 'ship': 13, \n",
    " 'cotton': 14, 'alum': 23, 'strategic-metal': 27, \n",
    " 'lead': 45, 'housing': 7, 'meal-feed': 22, 'gnp': 21, \n",
    " 'sugar': 10, 'rubber': 32, 'dlr': 40, 'veg-oil': 2, \n",
    " 'interest': 20, 'crude': 16, 'coffee': 9, 'wheat': 5, \n",
    " 'carcass': 15, 'lei': 35, 'gas': 41, 'nat-gas': 17, \n",
    " 'oilseed': 24, 'orange': 38, 'heat': 33, 'wpi': 43, \n",
    " 'silver': 42, 'cpi': 18, 'earn': 3, 'bop': 36, 'money-supply': 8, \n",
    " 'hog': 44, 'acq': 4, 'pet-chem': 39, 'grain': 1, 'retail': 29}"
   ]
  },
  {
   "cell_type": "markdown",
   "metadata": {},
   "source": [
    "### Report the total number of documents, classes, and frequency distribution\n",
    "\n",
    "we reversed the `class_to_idx` dictionary above so that we can decode the labels into classes"
   ]
  },
  {
   "cell_type": "code",
   "execution_count": 12,
   "metadata": {},
   "outputs": [
    {
     "data": {
      "text/plain": [
       "{6: 'copper',\n",
       " 28: 'livestock',\n",
       " 25: 'gold',\n",
       " 19: 'money-fx',\n",
       " 30: 'ipi',\n",
       " 11: 'trade',\n",
       " 0: 'cocoa',\n",
       " 31: 'iron-steel',\n",
       " 12: 'reserves',\n",
       " 26: 'tin',\n",
       " 37: 'zinc',\n",
       " 34: 'jobs',\n",
       " 13: 'ship',\n",
       " 14: 'cotton',\n",
       " 23: 'alum'}"
      ]
     },
     "execution_count": 12,
     "metadata": {},
     "output_type": "execute_result"
    }
   ],
   "source": [
    "idx_to_class = dict([(value, key) for (key, value) in class_to_idx.items()])\n",
    "{k: idx_to_class[k] for k in list(idx_to_class)[:15]} "
   ]
  },
  {
   "cell_type": "code",
   "execution_count": 13,
   "metadata": {},
   "outputs": [],
   "source": [
    "classes = [idx_to_class[label] for label in labels]"
   ]
  },
  {
   "cell_type": "code",
   "execution_count": 14,
   "metadata": {},
   "outputs": [
    {
     "data": {
      "text/plain": [
       "[('earn', 3972),\n",
       " ('acq', 2423),\n",
       " ('money-fx', 682),\n",
       " ('crude', 543),\n",
       " ('grain', 537),\n",
       " ('trade', 473),\n",
       " ('interest', 339),\n",
       " ('ship', 209),\n",
       " ('money-supply', 177),\n",
       " ('sugar', 154),\n",
       " ('gnp', 127),\n",
       " ('coffee', 126),\n",
       " ('gold', 123),\n",
       " ('veg-oil', 94),\n",
       " ('cpi', 86),\n",
       " ('oilseed', 81),\n",
       " ('cocoa', 67),\n",
       " ('copper', 62),\n",
       " ('reserves', 62),\n",
       " ('bop', 60),\n",
       " ('livestock', 58),\n",
       " ('ipi', 57),\n",
       " ('jobs', 57),\n",
       " ('alum', 53),\n",
       " ('iron-steel', 52),\n",
       " ('nat-gas', 51),\n",
       " ('dlr', 46),\n",
       " ('rubber', 42),\n",
       " ('gas', 38),\n",
       " ('tin', 32),\n",
       " ('carcass', 29),\n",
       " ('pet-chem', 29),\n",
       " ('cotton', 28),\n",
       " ('wpi', 27),\n",
       " ('retail', 23),\n",
       " ('orange', 22),\n",
       " ('meal-feed', 22),\n",
       " ('wheat', 22),\n",
       " ('zinc', 21),\n",
       " ('housing', 19),\n",
       " ('lead', 19),\n",
       " ('strategic-metal', 19),\n",
       " ('hog', 17),\n",
       " ('lei', 16),\n",
       " ('silver', 16),\n",
       " ('heat', 16)]"
      ]
     },
     "execution_count": 14,
     "metadata": {},
     "output_type": "execute_result"
    }
   ],
   "source": [
    "Counter(classes).most_common()"
   ]
  },
  {
   "cell_type": "markdown",
   "metadata": {},
   "source": [
    "### Preview Rueters News Articles \n",
    "\n",
    "Each document is a list of integers (word indexes).  We get the `word_index` dictionary and then reverse is to get the original text of the newswires"
   ]
  },
  {
   "cell_type": "code",
   "execution_count": 15,
   "metadata": {},
   "outputs": [
    {
     "name": "stdout",
     "output_type": "stream",
     "text": [
      "[1, 3267, 699, 3434, 2295, 56, 16784, 7511, 9, 56, 3906, 1073, 81, 5, 1198, 57, 366, 737, 132, 20, 4093, 7, 19261, 49, 2295, 13415, 1037, 3267, 699, 3434, 8, 7, 10, 241, 16, 855, 129, 231, 783, 5, 4, 587, 2295, 13415, 30625, 775, 7, 48, 34, 191, 44, 35, 1795, 505, 17, 12]\n"
     ]
    }
   ],
   "source": [
    "print(data[1])"
   ]
  },
  {
   "cell_type": "markdown",
   "metadata": {},
   "source": [
    "###  Decode 5 newswire articles \n",
    "<div class=\"alert alert-block alert-info\">\n",
    "We use the `reverse_word_index` dictionary to decode the 5 newswires (with different topic labels) and display them with along with their class labels.\n",
    "\n",
    "tf.keras.datasets.reuters.get_word_index()\n",
    "Retrieves a dict mapping words to their index in the Reuters dataset.</div>"
   ]
  },
  {
   "cell_type": "code",
   "execution_count": 16,
   "metadata": {},
   "outputs": [],
   "source": [
    "word_index = tf.keras.datasets.reuters.get_word_index()\n",
    "reverse_word_index = dict([(value, key) for (key, value) in word_index.items()])"
   ]
  },
  {
   "cell_type": "code",
   "execution_count": 17,
   "metadata": {},
   "outputs": [
    {
     "name": "stdout",
     "output_type": "stream",
     "text": [
      "Reuters News Article 11:\n",
      "? period ended december 31 shr profit 11 cts vs loss 24 cts net profit 224 271 vs loss 511 349 revs 7 258 688 vs 7 200 349 reuter 3 \n",
      "\n",
      "Topic: earn\n",
      "\n",
      "Reuters News Article 21:\n",
      "? leading u s farm state senators are seeking to insert into the senate's omnibus trade bill a provision that would broaden eligibility requirements under the u s agriculture department's export enhancement program eep to include traditional buyers of u s farm products including the soviet union senate staff said under existing criteria usda can offer eep subsidies to recoup export markets lost to competing nations' unfair trading practices senate agriculture committee chairman patrick leahy d vt is leading a group of farm state senators in an effort to broaden the criteria in such a way as to enable moscow to be eligible for the subsidies sources said the senators including senate finance committee chairman lloyd bentsen d tex max baucus d mont david pryor d ark john melcher d mont and thad cochran r miss also may fold into the trade bill a measure to shield pork producers and processors from canadian imports the measure sponsored by sen charles grassley r iowa would clarify the definition of industry in determining whether or not imports were causing injury to u s producers grassley's bill stems from a 1985 decision by the international trade commission that imports from canada of live swine but not fresh chilled and frozen pork were harming u s producers the bill's proponents have argued canada has simply replaced shipments of live hogs with fresh pork reuter 3 \n",
      "\n",
      "Topic: trade\n",
      "\n",
      "Reuters News Article 31:\n",
      "? the u s agriculture department said private u s exporters reported sales of 200 000 tonnes of wheat to jordan 300 000 tonnes of soybean meal to iraq and 100 000 tonnes of corn to algeria the wheat for jordan includes 165 000 tonnes of hard red winter and 35 000 tonnes of soft red winter and is for delivery during the 1987 88 marketing year the soybean meal sales to iraq includes 180 000 tonnes for delivery during the 1986 87 season and 120 000 tonnes during the 1987 88 season the department said the 100 000 tonnes of corn sales to algeria are for delivery during the 1986 87 season it said the marketing year for wheat begins june 1 corn september 1 and soybean meal october 1 reuter 3 \n",
      "\n",
      "Topic: grain\n",
      "\n",
      "Reuters News Article 36:\n",
      "? chase corp ltd lt chca we said it will make an offer for all fully paid shares and options of lt entregrowth international ltd it does not already own chase a property investment firm said it holds 48 pct of entregrowth its vehicle for expansion in north america it said agreements are being concluded to give it a beneficial 72 4 pct interest the offer for the remaining shares is one chase share for every three entregrowth shares and one chase option for every four entregrowth options chase shares closed on friday at 4 41 dlrs and the options at 2 38 entregrowth closed at 1 35 dlrs and options at 55 cents chase said the offer for the remaining 27 6 pct of entregrowth worth 34 2 mln dlrs involved the issue of 5 80 mln chase shares and 3 10 mln chase options chase chairman colin reynolds said the takeover would allow entregrowth to concentrate on north american operations with access to chase's international funding base and a stronger executive team he said there also would be benefits from integrating new zealand investment activities chase said the offer is conditional it receiving accptances for at least 90 pct of the shares and options reuter 3 \n",
      "\n",
      "Topic: acq\n",
      "\n",
      "Reuters News Article 46:\n",
      "? the u s treasury said its weekly auction of three month bills produced an average rate of 5 98 pct with a 6 08 pct rate on six month bills these rates compared with averages of 5 53 pct for the three and 5 63 pct for the six month bills sold last week the bond equivalent yield on three month bills was 6 17 pct accepted bids ranges from 5 92 to 5 99 pct and 60 pct of the bids at the high or stopout rate were taken for six months the yield was 6 38 pct and the bids ranged from 5 98 pct to 6 10 pct with 48 pct of the bids accepted the treasury said it received 25 99 billion dlrs of bids for the three month bills including 1 2 billion dlrs in non competitive bids from the public it accepted 6 6 billion dlrs of bids including 2 1 billion dlrs from the federal reserve and 180 mln dlrs from foreign and international monetary authorities some 24 7 billion dlrs in bids for six month bills were received including 832 mln dlrs in non competitives the treasury accepted 6 6 billion dlrs including 1 8 billion dlrs from the fed and 1 2 billion dlrs from foreign and international authorities the average price for the three month bills was 98 488 and prices ranged from 98 504 to 98 486 the average price for the six months bills was 96 926 and prices ranged from 96 977 to 96 916 the average yield on the three month bills was the highest since 5 99 pct on june 30 1986 the average yield on the six month bills was the highest since 6 13 pct on june 23 1986 reuter 3 \n",
      "\n",
      "Topic: interest\n",
      "\n"
     ]
    }
   ],
   "source": [
    "selection = [classes.index(cls) for cls in set(classes)] # get one index per class\n",
    "for k in [10,20,30,35,45]:   # picked from different 5 topics (using trial and error to find)\n",
    "    # Note that our indices were offset by 3\n",
    "    # because 0, 1 and 2 are reserved indices for \"padding\", \"start of sequence\", and \"unknown\".\n",
    "    decoded_newswire = ' '.join([reverse_word_index.get(i - 3, '?') for i in data[k]])\n",
    "    print(f\"Reuters News Article {k+1}:\\n{decoded_newswire}\",\"\\n\")\n",
    "    print(f\"Topic: {idx_to_class[labels[k]]}\\n\")"
   ]
  },
  {
   "cell_type": "markdown",
   "metadata": {},
   "source": [
    "### Examine words in the corpus (Unique / Most Frequent / Least Frequent)\n",
    "To get the data corpus we first get the list of indexes<br>\n",
    "NOTE: \"start of sequence\" will appear as \"?\""
   ]
  },
  {
   "cell_type": "code",
   "execution_count": 18,
   "metadata": {},
   "outputs": [
    {
     "name": "stdout",
     "output_type": "stream",
     "text": [
      "There are 1638886 words in the data corpus\n"
     ]
    }
   ],
   "source": [
    "indexes = [word for doc in data for word in doc]  \n",
    "print(f\"There are {len(indexes)} words in the data corpus\")"
   ]
  },
  {
   "cell_type": "markdown",
   "metadata": {},
   "source": [
    "### Top 25 most common words in the corpus"
   ]
  },
  {
   "cell_type": "code",
   "execution_count": 19,
   "metadata": {},
   "outputs": [
    {
     "data": {
      "text/plain": [
       "[('in', 82723),\n",
       " ('said', 42393),\n",
       " ('and', 40350),\n",
       " ('a', 33157),\n",
       " ('mln', 29978),\n",
       " ('3', 29956),\n",
       " ('for', 29581),\n",
       " ('vs', 20141),\n",
       " ('dlrs', 16668),\n",
       " ('it', 15224),\n",
       " ('reuter', 15015),\n",
       " ('000', 13329),\n",
       " ('1', 12395),\n",
       " ('the', 11228),\n",
       " ('pct', 11191),\n",
       " ('on', 11039),\n",
       " ('from', 10755),\n",
       " ('is', 10746),\n",
       " ('that', 10377),\n",
       " ('its', 9345),\n",
       " ('cts', 9113),\n",
       " ('by', 9022),\n",
       " ('at', 8579),\n",
       " ('year', 8451),\n",
       " ('be', 8311)]"
      ]
     },
     "execution_count": 19,
     "metadata": {},
     "output_type": "execute_result"
    }
   ],
   "source": [
    "corpus = [reverse_word_index.get(index,'?') for index in indexes]\n",
    "corpus_freq = Counter(corpus).most_common()\n",
    "corpus_freq[:25]"
   ]
  },
  {
   "cell_type": "markdown",
   "metadata": {},
   "source": [
    "### Top 25 least common words in the corpus"
   ]
  },
  {
   "cell_type": "code",
   "execution_count": 20,
   "metadata": {},
   "outputs": [
    {
     "name": "stdout",
     "output_type": "stream",
     "text": [
      "There are 10305 words that occur just once in the data corpus totaling 1638886 words\n"
     ]
    }
   ],
   "source": [
    "uniques = [word for word,freq in Counter(corpus).items() if freq == 1]\n",
    "print(f\"There are {len(uniques)} words that occur just once in the data corpus totaling 1638886 words\")"
   ]
  },
  {
   "cell_type": "code",
   "execution_count": 21,
   "metadata": {},
   "outputs": [
    {
     "data": {
      "text/plain": [
       "[('barrelling', 1),\n",
       " ('bionomic', 1),\n",
       " ('atcma', 1),\n",
       " ('leopoldo', 1),\n",
       " ('departnment', 1),\n",
       " ('greylock', 1),\n",
       " ('knives', 1),\n",
       " ('theys', 1),\n",
       " ('gienow', 1),\n",
       " ('tentonian', 1),\n",
       " ('trifles', 1),\n",
       " ('brutal', 1),\n",
       " ('mustapha', 1),\n",
       " ('ufe', 1),\n",
       " ('armatron', 1),\n",
       " ('outraged', 1),\n",
       " ('enliven', 1),\n",
       " ('7801', 1),\n",
       " ('billard', 1),\n",
       " ('sulphurisation', 1),\n",
       " ('ncw', 1),\n",
       " ('collapsing', 1),\n",
       " ('rechannelling', 1),\n",
       " ('schipol', 1),\n",
       " ('monopolising', 1)]"
      ]
     },
     "execution_count": 21,
     "metadata": {},
     "output_type": "execute_result"
    }
   ],
   "source": [
    "corpus_freq[:-26:-1]"
   ]
  },
  {
   "cell_type": "markdown",
   "metadata": {},
   "source": [
    "### Number of words corpus vocabulary"
   ]
  },
  {
   "cell_type": "code",
   "execution_count": 22,
   "metadata": {},
   "outputs": [
    {
     "name": "stdout",
     "output_type": "stream",
     "text": [
      "There are 30980 words in the data corpus that represent the vocabulary\n"
     ]
    }
   ],
   "source": [
    "unique_indexes = list(set(indexes))\n",
    "print(f\"There are {len(unique_indexes)} words in the data corpus that represent the vocabulary\")"
   ]
  },
  {
   "cell_type": "code",
   "execution_count": 23,
   "metadata": {},
   "outputs": [
    {
     "data": {
      "text/plain": [
       "['wattie',\n",
       " 'nondiscriminatory',\n",
       " \"recommend's\",\n",
       " 'supplie',\n",
       " 'linares',\n",
       " 'unsubsidised',\n",
       " 'optioon',\n",
       " 'nonbelligerent',\n",
       " '8231',\n",
       " \"regime's\",\n",
       " 'effot',\n",
       " 'kuomintang',\n",
       " 'silently',\n",
       " 'disapproval',\n",
       " 'monarch',\n",
       " 'erba',\n",
       " 'hoax',\n",
       " 'cnpc',\n",
       " 'elbe',\n",
       " 'bavaria',\n",
       " 'mutton',\n",
       " 'saffron',\n",
       " 'thunderstorms',\n",
       " 'rogaland',\n",
       " 'atkinson']"
      ]
     },
     "execution_count": 23,
     "metadata": {},
     "output_type": "execute_result"
    }
   ],
   "source": [
    "uniques[:25]"
   ]
  },
  {
   "cell_type": "markdown",
   "metadata": {},
   "source": [
    "###  Overview of word corpus <br>\n",
    "\n",
    "| Word Frequency  | Description    |  Count        |  Percentage   |\n",
    "| :---            |    :----:      |     :----:    |          ---: |\n",
    "| Top 25 Words    | High Frequency |     499,067   |       0.30451 |\n",
    "| Bottom 25 Words | Low Frequency  |      10,305   |       0.00628 |\n",
    "| Unique Words    | Unique         |      30,398   |       0.01890 |\n"
   ]
  },
  {
   "cell_type": "markdown",
   "metadata": {},
   "source": [
    "### Review documents and create a histogram based on the number of words contain within each document"
   ]
  },
  {
   "cell_type": "code",
   "execution_count": 24,
   "metadata": {},
   "outputs": [
    {
     "name": "stdout",
     "output_type": "stream",
     "text": [
      "Number of words in Rueters News Articles: 2 to 2376\n",
      "There are a total of 1638886 words in the data corpus\n"
     ]
    }
   ],
   "source": [
    "doc_sizes = ([len(lst) for lst in data]) # num of words in each document\n",
    "print(f\"Number of words in Rueters News Articles: {min(doc_sizes)} to {max(doc_sizes)}\")\n",
    "print(f\"There are a total of {sum(doc_sizes)} words in the data corpus\")"
   ]
  },
  {
   "cell_type": "markdown",
   "metadata": {},
   "source": [
    "### Review distribution of the document sizes for data corpus"
   ]
  },
  {
   "cell_type": "code",
   "execution_count": 25,
   "metadata": {},
   "outputs": [
    {
     "data": {
      "text/plain": [
       "Text(0, 0.5, 'Number of Reuters News Articles')"
      ]
     },
     "execution_count": 25,
     "metadata": {},
     "output_type": "execute_result"
    },
    {
     "data": {
      "image/png": "[encoded data removed]",
      "text/plain": [
       "<Figure size 1080x648 with 1 Axes>"
      ]
     },
     "metadata": {
      "needs_background": "light"
     },
     "output_type": "display_data"
    }
   ],
   "source": [
    "plt.figure(figsize=[15,9])\n",
    "plt.hist(doc_sizes, bins=20,range = (0,800))\n",
    "plt.xlabel(\"Words Per Document\")\n",
    "plt.ylabel(\"Number of Reuters News Articles\")"
   ]
  },
  {
   "cell_type": "markdown",
   "metadata": {},
   "source": [
    "Distribution is right screwed, most of the words contained with the first couple hundred documents"
   ]
  },
  {
   "cell_type": "markdown",
   "metadata": {},
   "source": [
    "## Preprocess Reuters Dataset"
   ]
  },
  {
   "cell_type": "markdown",
   "metadata": {},
   "source": [
    "Decisions resulting from EDA<br>\n",
    "Input Vector size from document length (maxlen)<br>\n",
    "Skip Top 25 words - as non-informative (skip_top)"
   ]
  },
  {
   "cell_type": "code",
   "execution_count": 26,
   "metadata": {},
   "outputs": [],
   "source": [
    "voc_size=10500"
   ]
  },
  {
   "cell_type": "markdown",
   "metadata": {},
   "source": [
    "<div class=\"alert alert-block alert-info\">\n",
    "<b>tf.keras.datasets.reuters.load_data</b><br>\n",
    "https://www.tensorflow.org/api_docs/python/tf/keras/datasets/reuters/load_data\n",
    "</div>"
   ]
  },
  {
   "cell_type": "code",
   "execution_count": 27,
   "metadata": {},
   "outputs": [],
   "source": [
    "(train_data, train_labels),(test_data, test_labels) = tf.keras.datasets.reuters.load_data(\n",
    "                                      path='reuters.npz', num_words=voc_size, skip_top=26, maxlen=300, test_split=0.2,\n",
    "                                      seed=113, start_char=1, oov_char=2, index_from=3)"
   ]
  },
  {
   "cell_type": "markdown",
   "metadata": {},
   "source": [
    "### Review Data (Training / Test)"
   ]
  },
  {
   "cell_type": "code",
   "execution_count": 28,
   "metadata": {},
   "outputs": [
    {
     "data": {
      "text/plain": [
       "((7976,), (1994,))"
      ]
     },
     "execution_count": 28,
     "metadata": {},
     "output_type": "execute_result"
    }
   ],
   "source": [
    "train_labels.shape, test_labels.shape"
   ]
  },
  {
   "cell_type": "markdown",
   "metadata": {},
   "source": [
    "### Review training and testing split of words "
   ]
  },
  {
   "cell_type": "code",
   "execution_count": 29,
   "metadata": {},
   "outputs": [],
   "source": [
    "train_data_sizes = [len(s) for s in train_data]\n",
    "test_data_sizes = [len(s) for s in test_data]"
   ]
  },
  {
   "cell_type": "code",
   "execution_count": 30,
   "metadata": {
    "scrolled": true
   },
   "outputs": [
    {
     "data": {
      "text/plain": [
       "'There are 827922 words in the training data corpus'"
      ]
     },
     "execution_count": 30,
     "metadata": {},
     "output_type": "execute_result"
    }
   ],
   "source": [
    "f\"There are {sum(train_data_sizes)} words in the training data corpus\""
   ]
  },
  {
   "cell_type": "code",
   "execution_count": 31,
   "metadata": {},
   "outputs": [
    {
     "data": {
      "text/plain": [
       "'There are 206813 words in the test data corpus'"
      ]
     },
     "execution_count": 31,
     "metadata": {},
     "output_type": "execute_result"
    }
   ],
   "source": [
    "f\"There are {sum(test_data_sizes)} words in the test data corpus\""
   ]
  },
  {
   "cell_type": "markdown",
   "metadata": {},
   "source": [
    "### Padding Input Vector (Sequences) "
   ]
  },
  {
   "cell_type": "markdown",
   "metadata": {},
   "source": [
    "This function transforms a list (of length num_samples) of sequences (lists of integers) into a 2D Numpy array of shape (num_samples, num_timesteps). num_timesteps is either the maxlen argument if provided, or the length of the longest sequence in the list.<br>\n",
    "\n",
    "Sequences that are shorter than num_timesteps are padded with value until they are num_timesteps long.<br>\n",
    "\n",
    "Sequences longer than num_timesteps are truncated so that they fit the desired length.<br>\n",
    "\n",
    "The position where padding or truncation happens is determined by the arguments padding and truncating, respectively. Pre-padding or removing values from the beginning of the sequence is the default.<br>"
   ]
  },
  {
   "cell_type": "markdown",
   "metadata": {},
   "source": [
    "<div class=\"alert alert-block alert-info\">\n",
    "<b>tf.keras.preprocessing.sequence.pad_sequences</b><br>\n",
    "https://www.tensorflow.org/api_docs/python/tf/keras/preprocessing/sequence/pad_sequences\n",
    "</div>"
   ]
  },
  {
   "cell_type": "code",
   "execution_count": 32,
   "metadata": {},
   "outputs": [],
   "source": [
    "train_data_rnn = tf.keras.preprocessing.sequence.pad_sequences(train_data, padding='post')\n",
    "test_data_rnn = tf.keras.preprocessing.sequence.pad_sequences(test_data, padding='post')"
   ]
  },
  {
   "cell_type": "code",
   "execution_count": 33,
   "metadata": {},
   "outputs": [
    {
     "data": {
      "text/plain": [
       "((7976, 299), (1994, 299))"
      ]
     },
     "execution_count": 33,
     "metadata": {},
     "output_type": "execute_result"
    }
   ],
   "source": [
    "train_data_rnn.shape, test_data_rnn.shape"
   ]
  },
  {
   "cell_type": "markdown",
   "metadata": {},
   "source": [
    "### One Hot Encoding Labels\n",
    "\n",
    "We will change the way this label is represented from a class name or number, to a vector of all possible classes with all the classes set to 0 except the one which this example belongs to - which will be set to 1. For example:\n",
    "\n",
    "\n",
    "| original label | one-hot encoded label |\n",
    "|------|------|\n",
    "| 3 | [0, 0, 0, 1, 0, 0, 0, 0, 0, 0] |\n",
    "| 4 | [0, 0, 0, 0, 1, 0, 0, 0, 0, 0] |\n",
    "| 5 | [0, 0, 0, 0, 0, 1, 0, 0, 0, 0] |"
   ]
  },
  {
   "cell_type": "code",
   "execution_count": 34,
   "metadata": {},
   "outputs": [
    {
     "name": "stdout",
     "output_type": "stream",
     "text": [
      "First ten entries of train_labels:\n",
      " [3 4 3 4 4]\n",
      "\n",
      "First ten rows of one-hot train_labels:\n",
      " [[0. 0. 0. 1. 0. 0. 0. 0. 0. 0. 0. 0. 0. 0. 0. 0. 0. 0. 0. 0. 0. 0. 0. 0.\n",
      "  0. 0. 0. 0. 0. 0. 0. 0. 0. 0. 0. 0. 0. 0. 0. 0. 0. 0. 0. 0. 0. 0.]\n",
      " [0. 0. 0. 0. 1. 0. 0. 0. 0. 0. 0. 0. 0. 0. 0. 0. 0. 0. 0. 0. 0. 0. 0. 0.\n",
      "  0. 0. 0. 0. 0. 0. 0. 0. 0. 0. 0. 0. 0. 0. 0. 0. 0. 0. 0. 0. 0. 0.]\n",
      " [0. 0. 0. 1. 0. 0. 0. 0. 0. 0. 0. 0. 0. 0. 0. 0. 0. 0. 0. 0. 0. 0. 0. 0.\n",
      "  0. 0. 0. 0. 0. 0. 0. 0. 0. 0. 0. 0. 0. 0. 0. 0. 0. 0. 0. 0. 0. 0.]\n",
      " [0. 0. 0. 0. 1. 0. 0. 0. 0. 0. 0. 0. 0. 0. 0. 0. 0. 0. 0. 0. 0. 0. 0. 0.\n",
      "  0. 0. 0. 0. 0. 0. 0. 0. 0. 0. 0. 0. 0. 0. 0. 0. 0. 0. 0. 0. 0. 0.]\n",
      " [0. 0. 0. 0. 1. 0. 0. 0. 0. 0. 0. 0. 0. 0. 0. 0. 0. 0. 0. 0. 0. 0. 0. 0.\n",
      "  0. 0. 0. 0. 0. 0. 0. 0. 0. 0. 0. 0. 0. 0. 0. 0. 0. 0. 0. 0. 0. 0.]]\n"
     ]
    }
   ],
   "source": [
    "train_labels_encoded = to_categorical(train_labels)\n",
    "test_labels_encoded = to_categorical(test_labels)\n",
    "\n",
    "print(\"First ten entries of train_labels:\\n {}\\n\".format(train_labels[0:5]))\n",
    "print(\"First ten rows of one-hot train_labels:\\n {}\".format(train_labels_encoded[0:5,]))"
   ]
  },
  {
   "cell_type": "markdown",
   "metadata": {},
   "source": [
    "## Build DNN Model\n"
   ]
  },
  {
   "cell_type": "code",
   "execution_count": 184,
   "metadata": {},
   "outputs": [
    {
     "name": "stdout",
     "output_type": "stream",
     "text": [
      "84/84 [==============================] - 0s 994us/step - loss: 262.4122 - accuracy: 0.1757\n",
      "42/42 [==============================] - 0s 900us/step - loss: 33.1824 - accuracy: 0.2712\n",
      "84/84 [==============================] - 0s 963us/step - loss: 292.1121 - accuracy: 0.1144\n",
      "42/42 [==============================] - 0s 647us/step - loss: 41.3692 - accuracy: 0.2174\n",
      "84/84 [==============================] - 0s 963us/step - loss: 307.0467 - accuracy: 0.0876\n",
      "42/42 [==============================] - 0s 1ms/step - loss: 53.9406 - accuracy: 0.1742\n",
      "84/84 [==============================] - 0s 1ms/step - loss: 502.4870 - accuracy: 0.1268\n",
      "42/42 [==============================] - 0s 791us/step - loss: 108.9426 - accuracy: 0.1719\n",
      "84/84 [==============================] - 0s 1ms/step - loss: 454.5865 - accuracy: 0.1608\n",
      "42/42 [==============================] - 0s 736us/step - loss: 105.7645 - accuracy: 0.2226\n",
      "84/84 [==============================] - 0s 1ms/step - loss: 495.3129 - accuracy: 0.2089\n",
      "42/42 [==============================] - 0s 841us/step - loss: 130.8865 - accuracy: 0.1994\n",
      "84/84 [==============================] - 0s 1ms/step - loss: 610.6008 - accuracy: 0.2095\n",
      "42/42 [==============================] - 0s 828us/step - loss: 262.4899 - accuracy: 0.2460\n",
      "84/84 [==============================] - 0s 1ms/step - loss: 673.4529 - accuracy: 0.1821\n",
      "42/42 [==============================] - 0s 689us/step - loss: 302.8201 - accuracy: 0.2238\n",
      "84/84 [==============================] - 0s 1ms/step - loss: 588.2701 - accuracy: 0.2020\n",
      "42/42 [==============================] - 0s 791us/step - loss: 248.1965 - accuracy: 0.2223\n",
      "84/84 [==============================] - 0s 1ms/step - loss: 669.6150 - accuracy: 0.2281\n",
      "42/42 [==============================] - 0s 932us/step - loss: 402.2500 - accuracy: 0.2764\n",
      "84/84 [==============================] - 0s 1ms/step - loss: 698.3716 - accuracy: 0.2174\n",
      "42/42 [==============================] - 0s 1ms/step - loss: 406.0658 - accuracy: 0.2885\n",
      "84/84 [==============================] - 0s 1ms/step - loss: 696.9255 - accuracy: 0.2386\n",
      "42/42 [==============================] - 0s 886us/step - loss: 391.4272 - accuracy: 0.2487\n",
      "84/84 [==============================] - 0s 2ms/step - loss: 698.9997 - accuracy: 0.2705\n",
      "42/42 [==============================] - 0s 1ms/step - loss: 491.4754 - accuracy: 0.2817\n",
      "84/84 [==============================] - 0s 2ms/step - loss: 707.7120 - accuracy: 0.2404\n",
      "42/42 [==============================] - 0s 926us/step - loss: 512.6616 - accuracy: 0.3061\n",
      "84/84 [==============================] - 0s 2ms/step - loss: 691.3054 - accuracy: 0.2531\n",
      "42/42 [==============================] - 0s 1ms/step - loss: 469.6667 - accuracy: 0.2397\n",
      "125/125 [==============================] - 0s 2ms/step - loss: 599.6720 - accuracy: 0.2623\n"
     ]
    },
    {
     "data": {
      "text/html": [
       "<div>\n",
       "<style scoped>\n",
       "    .dataframe tbody tr th:only-of-type {\n",
       "        vertical-align: middle;\n",
       "    }\n",
       "\n",
       "    .dataframe tbody tr th {\n",
       "        vertical-align: top;\n",
       "    }\n",
       "\n",
       "    .dataframe thead th {\n",
       "        text-align: right;\n",
       "    }\n",
       "</style>\n",
       "<table border=\"1\" class=\"dataframe\">\n",
       "  <thead>\n",
       "    <tr style=\"text-align: right;\">\n",
       "      <th></th>\n",
       "      <th>batch_size</th>\n",
       "      <th>nb_epoch</th>\n",
       "      <th>units</th>\n",
       "      <th>mean_test_score</th>\n",
       "      <th>std_test_score</th>\n",
       "      <th>mean_fit_time</th>\n",
       "    </tr>\n",
       "  </thead>\n",
       "  <tbody>\n",
       "    <tr>\n",
       "      <th>4</th>\n",
       "      <td>64</td>\n",
       "      <td>10</td>\n",
       "      <td>256</td>\n",
       "      <td>0.275823</td>\n",
       "      <td>0.027454</td>\n",
       "      <td>0.515237</td>\n",
       "    </tr>\n",
       "    <tr>\n",
       "      <th>3</th>\n",
       "      <td>64</td>\n",
       "      <td>10</td>\n",
       "      <td>128</td>\n",
       "      <td>0.271186</td>\n",
       "      <td>0.016653</td>\n",
       "      <td>0.482678</td>\n",
       "    </tr>\n",
       "    <tr>\n",
       "      <th>2</th>\n",
       "      <td>64</td>\n",
       "      <td>10</td>\n",
       "      <td>64</td>\n",
       "      <td>0.230691</td>\n",
       "      <td>0.010810</td>\n",
       "      <td>0.665222</td>\n",
       "    </tr>\n",
       "    <tr>\n",
       "      <th>0</th>\n",
       "      <td>64</td>\n",
       "      <td>10</td>\n",
       "      <td>16</td>\n",
       "      <td>0.220907</td>\n",
       "      <td>0.039664</td>\n",
       "      <td>0.449743</td>\n",
       "    </tr>\n",
       "    <tr>\n",
       "      <th>1</th>\n",
       "      <td>64</td>\n",
       "      <td>10</td>\n",
       "      <td>32</td>\n",
       "      <td>0.197969</td>\n",
       "      <td>0.020752</td>\n",
       "      <td>0.466751</td>\n",
       "    </tr>\n",
       "  </tbody>\n",
       "</table>\n",
       "</div>"
      ],
      "text/plain": [
       "   batch_size  nb_epoch  units  mean_test_score  std_test_score  mean_fit_time\n",
       "4          64        10    256         0.275823        0.027454       0.515237\n",
       "3          64        10    128         0.271186        0.016653       0.482678\n",
       "2          64        10     64         0.230691        0.010810       0.665222\n",
       "0          64        10     16         0.220907        0.039664       0.449743\n",
       "1          64        10     32         0.197969        0.020752       0.466751"
      ]
     },
     "execution_count": 184,
     "metadata": {},
     "output_type": "execute_result"
    }
   ],
   "source": [
    "def create_model(units=256):\n",
    "    # Create model\n",
    "    model = Sequential([\n",
    "        Dense(name = \"hidden_layer\", units = units, activation = tf.nn.relu, input_shape = (299,)),\n",
    "        Dropout(0.2),\n",
    "        Dense(name = \"output_layer\", units = 46, activation = tf.nn.softmax)\n",
    "    ])\n",
    "\n",
    "    model.compile(optimizer='rmsprop',\n",
    "                  loss='categorical_crossentropy',\n",
    "                  metrics=['accuracy'])\n",
    "    return model\n",
    "\n",
    "model = KerasClassifier(build_fn=create_model)\n",
    "\n",
    "# grid search parameters\n",
    "units = [16,32,64,128,256]\n",
    "epochs = [10]\n",
    "batches = [64]\n",
    "\n",
    "param_grid = dict(\n",
    "    units=units,\n",
    "    nb_epoch=epochs,\n",
    "    batch_size=batches,\n",
    ")\n",
    "grid_result = GridSearchCV(estimator=model, param_grid=param_grid, cv=3).fit(train_data_rnn, train_labels_encoded)\n",
    "print_results(grid_result)"
   ]
  },
  {
   "cell_type": "code",
   "execution_count": 245,
   "metadata": {},
   "outputs": [],
   "source": [
    "model = Sequential([\n",
    "    Dense(name = \"hidden_layer\", units = 256, activation = tf.nn.relu, input_shape = (299,)),\n",
    "    Dropout(0.2),\n",
    "    Dense(name = \"output_layer\", units = 46, activation = tf.nn.softmax)\n",
    "])"
   ]
  },
  {
   "cell_type": "code",
   "execution_count": 246,
   "metadata": {
    "scrolled": true
   },
   "outputs": [
    {
     "name": "stdout",
     "output_type": "stream",
     "text": [
      "Model: \"sequential_114\"\n",
      "_________________________________________________________________\n",
      "Layer (type)                 Output Shape              Param #   \n",
      "=================================================================\n",
      "hidden_layer (Dense)         (None, 256)               76800     \n",
      "_________________________________________________________________\n",
      "dropout_161 (Dropout)        (None, 256)               0         \n",
      "_________________________________________________________________\n",
      "output_layer (Dense)         (None, 46)                11822     \n",
      "=================================================================\n",
      "Total params: 88,622\n",
      "Trainable params: 88,622\n",
      "Non-trainable params: 0\n",
      "_________________________________________________________________\n"
     ]
    }
   ],
   "source": [
    "model.summary()"
   ]
  },
  {
   "cell_type": "code",
   "execution_count": 247,
   "metadata": {
    "scrolled": true
   },
   "outputs": [
    {
     "data": {
      "image/png": "[encoded data removed]",
      "text/plain": [
       "<IPython.core.display.Image object>"
      ]
     },
     "execution_count": 247,
     "metadata": {},
     "output_type": "execute_result"
    }
   ],
   "source": [
    "keras.utils.plot_model(model, \"DNN_model.png\", show_shapes=True) "
   ]
  },
  {
   "cell_type": "code",
   "execution_count": 248,
   "metadata": {},
   "outputs": [],
   "source": [
    "model.compile(optimizer='rmsprop',           \n",
    "               loss = 'categorical_crossentropy',\n",
    "               metrics=['accuracy'])"
   ]
  },
  {
   "cell_type": "code",
   "execution_count": 249,
   "metadata": {},
   "outputs": [
    {
     "name": "stdout",
     "output_type": "stream",
     "text": [
      "Epoch 1/10\n",
      "200/200 [==============================] - 1s 6ms/step - loss: 664.0690 - accuracy: 0.2583 - val_loss: 243.2344 - val_accuracy: 0.3158\n",
      "Epoch 2/10\n",
      "200/200 [==============================] - 0s 2ms/step - loss: 124.9402 - accuracy: 0.3116 - val_loss: 46.4181 - val_accuracy: 0.2732\n",
      "Epoch 3/10\n",
      "200/200 [==============================] - 0s 2ms/step - loss: 21.9807 - accuracy: 0.3063 - val_loss: 13.1532 - val_accuracy: 0.2876\n",
      "Epoch 4/10\n",
      "200/200 [==============================] - 0s 2ms/step - loss: 7.2341 - accuracy: 0.3503 - val_loss: 7.4779 - val_accuracy: 0.3315\n",
      "Epoch 5/10\n",
      "200/200 [==============================] - 0s 2ms/step - loss: 4.4917 - accuracy: 0.3770 - val_loss: 6.5840 - val_accuracy: 0.3471\n",
      "Epoch 6/10\n",
      "200/200 [==============================] - 0s 2ms/step - loss: 3.7572 - accuracy: 0.3925 - val_loss: 6.1623 - val_accuracy: 0.3590\n",
      "Epoch 7/10\n",
      "200/200 [==============================] - 0s 2ms/step - loss: 3.3031 - accuracy: 0.3953 - val_loss: 5.9518 - val_accuracy: 0.3565\n",
      "Epoch 8/10\n",
      "200/200 [==============================] - 0s 2ms/step - loss: 2.9516 - accuracy: 0.4036 - val_loss: 5.3556 - val_accuracy: 0.3615\n",
      "Epoch 9/10\n",
      "200/200 [==============================] - 0s 2ms/step - loss: 2.7480 - accuracy: 0.4042 - val_loss: 5.8704 - val_accuracy: 0.3615\n",
      "Epoch 10/10\n",
      "200/200 [==============================] - 0s 2ms/step - loss: 2.6108 - accuracy: 0.4481 - val_loss: 6.0351 - val_accuracy: 0.3878\n"
     ]
    }
   ],
   "source": [
    "train_rt = TrainRuntimeCallback()\n",
    "history = model.fit(\n",
    "    train_data_rnn,\n",
    "    train_labels_encoded,\n",
    "    callbacks = [train_rt],\n",
    "    epochs = 10,\n",
    "    validation_split=0.20 \n",
    "    )"
   ]
  },
  {
   "cell_type": "code",
   "execution_count": 250,
   "metadata": {},
   "outputs": [
    {
     "data": {
      "text/plain": [
       "0.08968735"
      ]
     },
     "execution_count": 250,
     "metadata": {},
     "output_type": "execute_result"
    }
   ],
   "source": [
    "train_time = (train_rt.process_time/60)\n",
    "train_time"
   ]
  },
  {
   "cell_type": "code",
   "execution_count": 251,
   "metadata": {},
   "outputs": [
    {
     "name": "stdout",
     "output_type": "stream",
     "text": [
      "63/63 [==============================] - 0s 876us/step - loss: 6.1180 - accuracy: 0.4057\n",
      "test set accuracy:  40.57171642780304\n"
     ]
    }
   ],
   "source": [
    "loss, accuracy = model.evaluate(test_data_rnn, test_labels_encoded)\n",
    "print('test set accuracy: ', accuracy * 100)"
   ]
  },
  {
   "cell_type": "code",
   "execution_count": 252,
   "metadata": {},
   "outputs": [
    {
     "data": {
      "text/plain": [
       "dict_keys(['loss', 'accuracy', 'val_loss', 'val_accuracy'])"
      ]
     },
     "execution_count": 252,
     "metadata": {},
     "output_type": "execute_result"
    }
   ],
   "source": [
    "history_dict = history.history\n",
    "history_dict.keys()"
   ]
  },
  {
   "cell_type": "code",
   "execution_count": 253,
   "metadata": {},
   "outputs": [],
   "source": [
    "losses = history.history['loss']\n",
    "accs = history.history['accuracy']\n",
    "val_losses = history.history['val_loss']\n",
    "val_accs = history.history['val_accuracy']\n",
    "epochs = len(losses)"
   ]
  },
  {
   "cell_type": "code",
   "execution_count": 254,
   "metadata": {
    "scrolled": true
   },
   "outputs": [
    {
     "data": {
      "image/png": "[encoded data removed]",
      "text/plain": [
       "<Figure size 864x288 with 2 Axes>"
      ]
     },
     "metadata": {
      "needs_background": "light"
     },
     "output_type": "display_data"
    }
   ],
   "source": [
    "plt.figure(figsize=(12, 4))\n",
    "for i, metrics in enumerate(zip([losses, accs], [val_losses, val_accs], ['Loss', 'Accuracy'])):\n",
    "    plt.subplot(1, 2, i + 1)\n",
    "    plt.plot(range(epochs), metrics[0], label='Training {}'.format(metrics[2]))\n",
    "    plt.plot(range(epochs), metrics[1], label='Validation {}'.format(metrics[2]))\n",
    "    plt.legend()\n",
    "plt.show()"
   ]
  },
  {
   "cell_type": "markdown",
   "metadata": {},
   "source": [
    "## Build SimpleRNN Model"
   ]
  },
  {
   "cell_type": "markdown",
   "metadata": {},
   "source": [
    "<img src=\"https://github.com/djp840/MSDS_458_Public/blob/master/images/SimpleRNNArchitecture.png?raw=1\">"
   ]
  },
  {
   "cell_type": "code",
   "execution_count": 35,
   "metadata": {},
   "outputs": [
    {
     "name": "stdout",
     "output_type": "stream",
     "text": [
      "84/84 [==============================] - 5s 57ms/step - loss: 2.8544 - accuracy: 0.3771\n",
      "42/42 [==============================] - 1s 15ms/step - loss: 2.4421 - accuracy: 0.3734\n",
      "84/84 [==============================] - 5s 58ms/step - loss: 3.1318 - accuracy: 0.2174\n",
      "42/42 [==============================] - 1s 15ms/step - loss: 2.5616 - accuracy: 0.3930\n",
      "84/84 [==============================] - 5s 57ms/step - loss: 2.9708 - accuracy: 0.3703\n",
      "42/42 [==============================] - 1s 15ms/step - loss: 2.4270 - accuracy: 0.3789\n",
      "84/84 [==============================] - 5s 56ms/step - loss: 2.6132 - accuracy: 0.3637\n",
      "42/42 [==============================] - 1s 15ms/step - loss: 2.3611 - accuracy: 0.3734\n",
      "84/84 [==============================] - 5s 59ms/step - loss: 2.5784 - accuracy: 0.3620\n",
      "42/42 [==============================] - 1s 16ms/step - loss: 2.3168 - accuracy: 0.3930\n",
      "84/84 [==============================] - 5s 59ms/step - loss: 2.6267 - accuracy: 0.3663\n",
      "42/42 [==============================] - 1s 15ms/step - loss: 2.3203 - accuracy: 0.3789\n",
      "84/84 [==============================] - 5s 65ms/step - loss: 2.4579 - accuracy: 0.3810\n",
      "42/42 [==============================] - 1s 18ms/step - loss: 2.3972 - accuracy: 0.3734\n",
      "84/84 [==============================] - 5s 62ms/step - loss: 2.4670 - accuracy: 0.3645\n",
      "42/42 [==============================] - 1s 19ms/step - loss: 2.3048 - accuracy: 0.3930\n",
      "84/84 [==============================] - 5s 61ms/step - loss: 2.4731 - accuracy: 0.3691\n",
      "42/42 [==============================] - 1s 17ms/step - loss: 2.3238 - accuracy: 0.3789\n",
      "84/84 [==============================] - 9s 107ms/step - loss: 2.3782 - accuracy: 0.3718\n",
      "42/42 [==============================] - 1s 30ms/step - loss: 2.4098 - accuracy: 0.3734\n",
      "84/84 [==============================] - 8s 95ms/step - loss: 2.4145 - accuracy: 0.3592\n",
      "42/42 [==============================] - 1s 28ms/step - loss: 2.3404 - accuracy: 0.3930\n",
      "84/84 [==============================] - 8s 96ms/step - loss: 2.4761 - accuracy: 0.3582\n",
      "42/42 [==============================] - 1s 26ms/step - loss: 2.4211 - accuracy: 0.2254\n",
      "84/84 [==============================] - 16s 194ms/step - loss: 2.4420 - accuracy: 0.3494\n",
      "42/42 [==============================] - 3s 64ms/step - loss: 2.5252 - accuracy: 0.3734\n",
      "84/84 [==============================] - 15s 173ms/step - loss: 2.4526 - accuracy: 0.3446\n",
      "42/42 [==============================] - 3s 66ms/step - loss: 2.5227 - accuracy: 0.3930\n",
      "84/84 [==============================] - 14s 167ms/step - loss: 2.4459 - accuracy: 0.3507\n",
      "42/42 [==============================] - 3s 66ms/step - loss: 2.4133 - accuracy: 0.3789\n",
      "125/125 [==============================] - 7s 56ms/step - loss: 2.8233 - accuracy: 0.3523\n"
     ]
    },
    {
     "data": {
      "text/html": [
       "<div>\n",
       "<style scoped>\n",
       "    .dataframe tbody tr th:only-of-type {\n",
       "        vertical-align: middle;\n",
       "    }\n",
       "\n",
       "    .dataframe tbody tr th {\n",
       "        vertical-align: top;\n",
       "    }\n",
       "\n",
       "    .dataframe thead th {\n",
       "        text-align: right;\n",
       "    }\n",
       "</style>\n",
       "<table border=\"1\" class=\"dataframe\">\n",
       "  <thead>\n",
       "    <tr style=\"text-align: right;\">\n",
       "      <th></th>\n",
       "      <th>batch_size</th>\n",
       "      <th>nb_epoch</th>\n",
       "      <th>units</th>\n",
       "      <th>mean_test_score</th>\n",
       "      <th>std_test_score</th>\n",
       "      <th>mean_fit_time</th>\n",
       "    </tr>\n",
       "  </thead>\n",
       "  <tbody>\n",
       "    <tr>\n",
       "      <th>0</th>\n",
       "      <td>64</td>\n",
       "      <td>10</td>\n",
       "      <td>16</td>\n",
       "      <td>0.381770</td>\n",
       "      <td>0.008245</td>\n",
       "      <td>5.827201</td>\n",
       "    </tr>\n",
       "    <tr>\n",
       "      <th>1</th>\n",
       "      <td>64</td>\n",
       "      <td>10</td>\n",
       "      <td>32</td>\n",
       "      <td>0.381770</td>\n",
       "      <td>0.008245</td>\n",
       "      <td>5.860274</td>\n",
       "    </tr>\n",
       "    <tr>\n",
       "      <th>2</th>\n",
       "      <td>64</td>\n",
       "      <td>10</td>\n",
       "      <td>64</td>\n",
       "      <td>0.381770</td>\n",
       "      <td>0.008245</td>\n",
       "      <td>6.182129</td>\n",
       "    </tr>\n",
       "    <tr>\n",
       "      <th>4</th>\n",
       "      <td>64</td>\n",
       "      <td>10</td>\n",
       "      <td>256</td>\n",
       "      <td>0.381770</td>\n",
       "      <td>0.008245</td>\n",
       "      <td>16.101099</td>\n",
       "    </tr>\n",
       "    <tr>\n",
       "      <th>3</th>\n",
       "      <td>64</td>\n",
       "      <td>10</td>\n",
       "      <td>128</td>\n",
       "      <td>0.330604</td>\n",
       "      <td>0.074847</td>\n",
       "      <td>9.349690</td>\n",
       "    </tr>\n",
       "  </tbody>\n",
       "</table>\n",
       "</div>"
      ],
      "text/plain": [
       "   batch_size  nb_epoch  units  mean_test_score  std_test_score  mean_fit_time\n",
       "0          64        10     16         0.381770        0.008245       5.827201\n",
       "1          64        10     32         0.381770        0.008245       5.860274\n",
       "2          64        10     64         0.381770        0.008245       6.182129\n",
       "4          64        10    256         0.381770        0.008245      16.101099\n",
       "3          64        10    128         0.330604        0.074847       9.349690"
      ]
     },
     "execution_count": 35,
     "metadata": {},
     "output_type": "execute_result"
    }
   ],
   "source": [
    "def create_model(voc_size=10500, units=256):\n",
    "    # Create model\n",
    "    model = Sequential()\n",
    "    model.add(Embedding(input_dim=voc_size, output_dim=128, input_length=299))\n",
    "    model.add(SimpleRNN(units=units,activation='tanh',use_bias=True))\n",
    "    model.add(Dense(units=46, activation='softmax'))\n",
    "\n",
    "    model.compile(optimizer='rmsprop',\n",
    "                  loss='categorical_crossentropy',\n",
    "                  metrics=['accuracy'])\n",
    "    return model\n",
    "\n",
    "model = KerasClassifier(build_fn=create_model)\n",
    "\n",
    "# grid search parameters\n",
    "units = [16,32,64,128,256]\n",
    "epochs = [10]\n",
    "batches = [64]\n",
    "\n",
    "param_grid = dict(\n",
    "    units=units,\n",
    "    nb_epoch=epochs,\n",
    "    batch_size=batches,\n",
    ")\n",
    "grid_result = GridSearchCV(estimator=model, param_grid=param_grid, cv=3).fit(train_data_rnn, train_labels_encoded)\n",
    "print_results(grid_result)"
   ]
  },
  {
   "cell_type": "code",
   "execution_count": 237,
   "metadata": {},
   "outputs": [],
   "source": [
    "model = Sequential()\n",
    "model.add(Embedding(input_dim=voc_size, output_dim=128, input_length=299))\n",
    "model.add(SimpleRNN(units=16,activation='tanh',use_bias=True))\n",
    "model.add(Dropout(0.2))\n",
    "model.add(Dense(units=46, activation='softmax'))"
   ]
  },
  {
   "cell_type": "code",
   "execution_count": 238,
   "metadata": {},
   "outputs": [
    {
     "name": "stdout",
     "output_type": "stream",
     "text": [
      "Model: \"sequential_113\"\n",
      "_________________________________________________________________\n",
      "Layer (type)                 Output Shape              Param #   \n",
      "=================================================================\n",
      "embedding_95 (Embedding)     (None, 299, 128)          1344000   \n",
      "_________________________________________________________________\n",
      "simple_rnn_30 (SimpleRNN)    (None, 16)                2320      \n",
      "_________________________________________________________________\n",
      "dropout_160 (Dropout)        (None, 16)                0         \n",
      "_________________________________________________________________\n",
      "dense_91 (Dense)             (None, 46)                782       \n",
      "=================================================================\n",
      "Total params: 1,347,102\n",
      "Trainable params: 1,347,102\n",
      "Non-trainable params: 0\n",
      "_________________________________________________________________\n"
     ]
    }
   ],
   "source": [
    "model.summary()"
   ]
  },
  {
   "cell_type": "markdown",
   "metadata": {},
   "source": [
    "### Calculate the Number of Parameters Per Layer\n",
    "<div class=\"alert alert-block alert-success\">\n",
    "    <b>Embedding Parameters</b> = num_words(10500) * size of output (128)<br> \n",
    "<b>RNN Parameters</b> = [(size_of_input + 1) * size_of_output + size_of_output^2)]<br>\n",
    "<b>Dense Layer</b> = size of input(256+1) * size of output(46)\n",
    "</div>"
   ]
  },
  {
   "cell_type": "code",
   "execution_count": 239,
   "metadata": {},
   "outputs": [
    {
     "data": {
      "image/png": "[encoded data removed]",
      "text/plain": [
       "<IPython.core.display.Image object>"
      ]
     },
     "execution_count": 239,
     "metadata": {},
     "output_type": "execute_result"
    }
   ],
   "source": [
    "keras.utils.plot_model(model, \"SimpleRNN_model.png\", show_shapes=True) "
   ]
  },
  {
   "cell_type": "markdown",
   "metadata": {},
   "source": [
    "### Compile SimpleRNN Model"
   ]
  },
  {
   "cell_type": "code",
   "execution_count": 240,
   "metadata": {},
   "outputs": [],
   "source": [
    "model.compile(optimizer='rmsprop',\n",
    "              loss='categorical_crossentropy',\n",
    "              metrics=['accuracy'])"
   ]
  },
  {
   "cell_type": "markdown",
   "metadata": {},
   "source": [
    "### Define Callback - Training Time Statistics"
   ]
  },
  {
   "cell_type": "code",
   "execution_count": 241,
   "metadata": {},
   "outputs": [],
   "source": [
    "class TrainRuntimeCallback(keras.callbacks.Callback):\n",
    "\n",
    "  def on_train_begin(self,logs={}):\n",
    "    self.start = datetime.datetime.now()\n",
    "\n",
    "  def on_train_end(self,logs={}):\n",
    "    self.process_time = (datetime.datetime.now() - self.start).total_seconds()"
   ]
  },
  {
   "cell_type": "markdown",
   "metadata": {},
   "source": [
    "### Training SimpleRNN Model"
   ]
  },
  {
   "cell_type": "code",
   "execution_count": 242,
   "metadata": {},
   "outputs": [
    {
     "name": "stdout",
     "output_type": "stream",
     "text": [
      "Epoch 1/10\n",
      "106/106 [==============================] - 7s 62ms/step - loss: 2.9393 - accuracy: 0.2499 - val_loss: 2.3880 - val_accuracy: 0.3751\n",
      "Epoch 2/10\n",
      "106/106 [==============================] - 7s 68ms/step - loss: 2.3915 - accuracy: 0.3648 - val_loss: 2.3293 - val_accuracy: 0.3743\n",
      "Epoch 3/10\n",
      "106/106 [==============================] - 7s 68ms/step - loss: 2.3647 - accuracy: 0.3714 - val_loss: 2.3320 - val_accuracy: 0.3743\n",
      "Epoch 4/10\n",
      "106/106 [==============================] - 7s 64ms/step - loss: 2.3517 - accuracy: 0.3768 - val_loss: 2.3271 - val_accuracy: 0.3751\n",
      "Epoch 5/10\n",
      "106/106 [==============================] - 7s 63ms/step - loss: 2.3513 - accuracy: 0.3784 - val_loss: 2.3297 - val_accuracy: 0.3743\n",
      "Epoch 6/10\n",
      "106/106 [==============================] - 7s 70ms/step - loss: 2.3475 - accuracy: 0.3827 - val_loss: 2.3331 - val_accuracy: 0.3751\n",
      "Epoch 7/10\n",
      "106/106 [==============================] - 7s 67ms/step - loss: 2.3424 - accuracy: 0.3810 - val_loss: 2.3378 - val_accuracy: 0.3734\n",
      "Epoch 8/10\n",
      "106/106 [==============================] - 7s 67ms/step - loss: 2.3404 - accuracy: 0.3824 - val_loss: 2.3293 - val_accuracy: 0.3751\n",
      "Epoch 9/10\n",
      "106/106 [==============================] - 7s 68ms/step - loss: 2.3374 - accuracy: 0.3824 - val_loss: 2.3308 - val_accuracy: 0.3751\n",
      "Epoch 10/10\n",
      "106/106 [==============================] - 7s 64ms/step - loss: 2.3351 - accuracy: 0.3831 - val_loss: 2.3273 - val_accuracy: 0.3751\n"
     ]
    }
   ],
   "source": [
    "train_rt = TrainRuntimeCallback()\n",
    "history = model.fit(train_data_rnn,\n",
    "                    train_labels_encoded,\n",
    "                    callbacks = [train_rt],\n",
    "                    epochs=10,\n",
    "                    batch_size=64,\n",
    "                    validation_split = 0.15)   "
   ]
  },
  {
   "cell_type": "markdown",
   "metadata": {},
   "source": [
    "### Training Time Statistics SimpleRNN"
   ]
  },
  {
   "cell_type": "code",
   "execution_count": 243,
   "metadata": {},
   "outputs": [
    {
     "data": {
      "text/plain": [
       "1.1921304"
      ]
     },
     "execution_count": 243,
     "metadata": {},
     "output_type": "execute_result"
    }
   ],
   "source": [
    "train_time = (train_rt.process_time/60)\n",
    "train_time"
   ]
  },
  {
   "cell_type": "markdown",
   "metadata": {},
   "source": [
    "### Test SimpleRNN Model"
   ]
  },
  {
   "cell_type": "code",
   "execution_count": 244,
   "metadata": {},
   "outputs": [
    {
     "name": "stdout",
     "output_type": "stream",
     "text": [
      "63/63 [==============================] - 1s 12ms/step - loss: 2.3083 - accuracy: 0.3967\n",
      "test set accuracy:  39.66900706291199\n"
     ]
    }
   ],
   "source": [
    "loss, accuracy = model.evaluate(test_data_rnn, test_labels_encoded)\n",
    "print('test set accuracy: ', accuracy * 100)"
   ]
  },
  {
   "cell_type": "markdown",
   "metadata": {},
   "source": [
    "### Plotting Performance Metrics SimpleRNN"
   ]
  },
  {
   "cell_type": "code",
   "execution_count": 181,
   "metadata": {},
   "outputs": [
    {
     "data": {
      "text/plain": [
       "dict_keys(['loss', 'accuracy', 'val_loss', 'val_accuracy'])"
      ]
     },
     "execution_count": 181,
     "metadata": {},
     "output_type": "execute_result"
    }
   ],
   "source": [
    "history_dict = history.history\n",
    "history_dict.keys()"
   ]
  },
  {
   "cell_type": "code",
   "execution_count": 182,
   "metadata": {},
   "outputs": [],
   "source": [
    "losses = history.history['loss']\n",
    "accs = history.history['accuracy']\n",
    "val_losses = history.history['val_loss']\n",
    "val_accs = history.history['val_accuracy']\n",
    "epochs = len(losses)"
   ]
  },
  {
   "cell_type": "code",
   "execution_count": 183,
   "metadata": {},
   "outputs": [
    {
     "data": {
      "image/png": "[encoded data removed]",
      "text/plain": [
       "<Figure size 864x288 with 2 Axes>"
      ]
     },
     "metadata": {
      "needs_background": "light"
     },
     "output_type": "display_data"
    }
   ],
   "source": [
    "plt.figure(figsize=(12, 4))\n",
    "for i, metrics in enumerate(zip([losses, accs], [val_losses, val_accs], ['Loss', 'Accuracy'])):\n",
    "    plt.subplot(1, 2, i + 1)\n",
    "    plt.plot(range(epochs), metrics[0], label='Training {}'.format(metrics[2]))\n",
    "    plt.plot(range(epochs), metrics[1], label='Validation {}'.format(metrics[2]))\n",
    "    plt.legend()\n",
    "plt.show()"
   ]
  },
  {
   "cell_type": "markdown",
   "metadata": {},
   "source": [
    "## Build LSTM Model"
   ]
  },
  {
   "cell_type": "markdown",
   "metadata": {},
   "source": [
    "<img src=\"https://github.com/djp840/MSDS_458_Public/blob/master/images/LSTMcellArchitecture.png?raw=1\">"
   ]
  },
  {
   "cell_type": "code",
   "execution_count": 67,
   "metadata": {},
   "outputs": [],
   "source": [
    "(train_data, LSTMtrain_labels),(test_data, LSTMtest_labels) = tf.keras.datasets.reuters.load_data(\n",
    "                                      path='reuters.npz', num_words=30980, skip_top=26, maxlen=2376, test_split=0.2,\n",
    "                                      seed=113, start_char=1, oov_char=2, index_from=26)"
   ]
  },
  {
   "cell_type": "code",
   "execution_count": 68,
   "metadata": {},
   "outputs": [],
   "source": [
    "LSTMtrain_data_rnn = tf.keras.preprocessing.sequence.pad_sequences(train_data,maxlen=1032)\n",
    "LSTMtest_data_rnn = tf.keras.preprocessing.sequence.pad_sequences(test_data,maxlen=1032)\n",
    "LSTMtrain_encoded = to_categorical(LSTMtrain_labels)\n",
    "LSTMtest_encoded = to_categorical(LSTMtest_labels)"
   ]
  },
  {
   "cell_type": "code",
   "execution_count": 69,
   "metadata": {},
   "outputs": [
    {
     "data": {
      "text/plain": [
       "((8981, 1032), (2246, 1032))"
      ]
     },
     "execution_count": 69,
     "metadata": {},
     "output_type": "execute_result"
    }
   ],
   "source": [
    "LSTMtrain_data_rnn.shape, LSTMtest_data_rnn.shape"
   ]
  },
  {
   "cell_type": "code",
   "execution_count": 98,
   "metadata": {
    "scrolled": false
   },
   "outputs": [
    {
     "name": "stdout",
     "output_type": "stream",
     "text": [
      "94/94 [==============================] - 35s 370ms/step - loss: 2.7639 - accuracy: 0.3589\n",
      "47/47 [==============================] - 5s 99ms/step - loss: 2.1915 - accuracy: 0.4405\n",
      "94/94 [==============================] - 36s 386ms/step - loss: 2.8091 - accuracy: 0.3609\n",
      "47/47 [==============================] - 4s 96ms/step - loss: 2.2780 - accuracy: 0.4756\n",
      "94/94 [==============================] - 33s 350ms/step - loss: 2.7670 - accuracy: 0.3886\n",
      "47/47 [==============================] - 5s 96ms/step - loss: 2.1106 - accuracy: 0.5072\n",
      "94/94 [==============================] - 42s 451ms/step - loss: 2.3708 - accuracy: 0.4070\n",
      "47/47 [==============================] - 5s 112ms/step - loss: 1.9455 - accuracy: 0.4228\n",
      "94/94 [==============================] - 42s 446ms/step - loss: 2.4158 - accuracy: 0.4296\n",
      "47/47 [==============================] - 5s 109ms/step - loss: 1.8444 - accuracy: 0.5277\n",
      "94/94 [==============================] - 46s 490ms/step - loss: 2.5022 - accuracy: 0.4203\n",
      "47/47 [==============================] - 5s 109ms/step - loss: 1.9090 - accuracy: 0.5252\n",
      "94/94 [==============================] - 56s 591ms/step - loss: 2.3063 - accuracy: 0.4254\n",
      "47/47 [==============================] - 7s 152ms/step - loss: 2.0391 - accuracy: 0.5127\n",
      "94/94 [==============================] - 56s 592ms/step - loss: 2.2529 - accuracy: 0.4388\n",
      "47/47 [==============================] - 8s 166ms/step - loss: 1.8184 - accuracy: 0.5234\n",
      "94/94 [==============================] - 56s 592ms/step - loss: 2.2809 - accuracy: 0.4195\n",
      "47/47 [==============================] - 7s 158ms/step - loss: 1.8003 - accuracy: 0.5068\n",
      "94/94 [==============================] - 102s 1s/step - loss: 2.2826 - accuracy: 0.4152\n",
      "47/47 [==============================] - 18s 390ms/step - loss: 2.1389 - accuracy: 0.4135\n",
      "94/94 [==============================] - 106s 1s/step - loss: 2.2800 - accuracy: 0.4157\n",
      "47/47 [==============================] - 21s 453ms/step - loss: 2.0687 - accuracy: 0.4265\n",
      "94/94 [==============================] - 110s 1s/step - loss: 2.2599 - accuracy: 0.4240\n",
      "47/47 [==============================] - 21s 445ms/step - loss: 1.8150 - accuracy: 0.5068\n",
      "94/94 [==============================] - 273s 3s/step - loss: 2.3773 - accuracy: 0.3862\n",
      "47/47 [==============================] - 40s 847ms/step - loss: 2.3037 - accuracy: 0.4085\n",
      "94/94 [==============================] - 277s 3s/step - loss: 2.4250 - accuracy: 0.3713\n",
      "47/47 [==============================] - 42s 892ms/step - loss: 2.0264 - accuracy: 0.4810\n",
      "94/94 [==============================] - 265s 3s/step - loss: 2.3937 - accuracy: 0.3746\n",
      "47/47 [==============================] - 42s 900ms/step - loss: 2.0832 - accuracy: 0.4788\n",
      "141/141 [==============================] - 96s 684ms/step - loss: 2.1101 - accuracy: 0.4587\n"
     ]
    },
    {
     "data": {
      "text/html": [
       "<div>\n",
       "<style scoped>\n",
       "    .dataframe tbody tr th:only-of-type {\n",
       "        vertical-align: middle;\n",
       "    }\n",
       "\n",
       "    .dataframe tbody tr th {\n",
       "        vertical-align: top;\n",
       "    }\n",
       "\n",
       "    .dataframe thead th {\n",
       "        text-align: right;\n",
       "    }\n",
       "</style>\n",
       "<table border=\"1\" class=\"dataframe\">\n",
       "  <thead>\n",
       "    <tr style=\"text-align: right;\">\n",
       "      <th></th>\n",
       "      <th>batch_size</th>\n",
       "      <th>nb_epoch</th>\n",
       "      <th>units</th>\n",
       "      <th>mean_test_score</th>\n",
       "      <th>std_test_score</th>\n",
       "      <th>mean_fit_time</th>\n",
       "    </tr>\n",
       "  </thead>\n",
       "  <tbody>\n",
       "    <tr>\n",
       "      <th>2</th>\n",
       "      <td>64</td>\n",
       "      <td>10</td>\n",
       "      <td>64</td>\n",
       "      <td>0.514307</td>\n",
       "      <td>0.006845</td>\n",
       "      <td>58.144478</td>\n",
       "    </tr>\n",
       "    <tr>\n",
       "      <th>1</th>\n",
       "      <td>64</td>\n",
       "      <td>10</td>\n",
       "      <td>32</td>\n",
       "      <td>0.491931</td>\n",
       "      <td>0.048861</td>\n",
       "      <td>45.593892</td>\n",
       "    </tr>\n",
       "    <tr>\n",
       "      <th>0</th>\n",
       "      <td>64</td>\n",
       "      <td>10</td>\n",
       "      <td>16</td>\n",
       "      <td>0.474450</td>\n",
       "      <td>0.027216</td>\n",
       "      <td>37.077223</td>\n",
       "    </tr>\n",
       "    <tr>\n",
       "      <th>4</th>\n",
       "      <td>64</td>\n",
       "      <td>10</td>\n",
       "      <td>256</td>\n",
       "      <td>0.456076</td>\n",
       "      <td>0.033665</td>\n",
       "      <td>276.502697</td>\n",
       "    </tr>\n",
       "    <tr>\n",
       "      <th>3</th>\n",
       "      <td>64</td>\n",
       "      <td>10</td>\n",
       "      <td>128</td>\n",
       "      <td>0.448954</td>\n",
       "      <td>0.041282</td>\n",
       "      <td>108.666509</td>\n",
       "    </tr>\n",
       "  </tbody>\n",
       "</table>\n",
       "</div>"
      ],
      "text/plain": [
       "   batch_size  nb_epoch  units  mean_test_score  std_test_score  mean_fit_time\n",
       "2          64        10     64         0.514307        0.006845      58.144478\n",
       "1          64        10     32         0.491931        0.048861      45.593892\n",
       "0          64        10     16         0.474450        0.027216      37.077223\n",
       "4          64        10    256         0.456076        0.033665     276.502697\n",
       "3          64        10    128         0.448954        0.041282     108.666509"
      ]
     },
     "execution_count": 98,
     "metadata": {},
     "output_type": "execute_result"
    }
   ],
   "source": [
    "def create_model(units=256):\n",
    "    # Create model\n",
    "    model= Sequential()\n",
    "    model.add(Embedding(input_dim=30980, output_dim=256, input_length=1032))\n",
    "    model.add(LSTM(units = units))\n",
    "    model.add(Dropout(0.2))\n",
    "    model.add(Dense(units = 46, activation='softmax'))\n",
    "    model.compile(optimizer='rmsprop',\n",
    "                  loss='categorical_crossentropy',\n",
    "                  metrics=['accuracy'])\n",
    "    return model\n",
    "\n",
    "model = KerasClassifier(build_fn=create_model)\n",
    "\n",
    "# grid search parameters\n",
    "units = [16,32,64,128,256]\n",
    "epochs = [10]\n",
    "batches = [64]\n",
    "\n",
    "param_grid = dict(\n",
    "    units=units,\n",
    "    nb_epoch=epochs,\n",
    "    batch_size=batches,\n",
    ")\n",
    "grid_result = GridSearchCV(estimator=model, param_grid=param_grid, cv=3).fit(LSTMtrain_data_rnn, LSTMtrain_encoded)\n",
    "print_results(grid_result)"
   ]
  },
  {
   "cell_type": "code",
   "execution_count": 104,
   "metadata": {},
   "outputs": [],
   "source": [
    "LSTMmodel= Sequential()\n",
    "LSTMmodel.add(Embedding(input_dim=30980, output_dim=256, input_length=1032))\n",
    "LSTMmodel.add(LSTM(units = 64))\n",
    "LSTMmodel.add(Dropout(0.2))\n",
    "LSTMmodel.add(Dense(units = 46, activation='softmax'))"
   ]
  },
  {
   "cell_type": "code",
   "execution_count": 105,
   "metadata": {},
   "outputs": [
    {
     "name": "stdout",
     "output_type": "stream",
     "text": [
      "Model: \"sequential_216\"\n",
      "_________________________________________________________________\n",
      "Layer (type)                 Output Shape              Param #   \n",
      "=================================================================\n",
      "embedding_180 (Embedding)    (None, 1032, 256)         7930880   \n",
      "_________________________________________________________________\n",
      "lstm_125 (LSTM)              (None, 64)                82176     \n",
      "_________________________________________________________________\n",
      "dropout_144 (Dropout)        (None, 64)                0         \n",
      "_________________________________________________________________\n",
      "dense_161 (Dense)            (None, 46)                2990      \n",
      "=================================================================\n",
      "Total params: 8,016,046\n",
      "Trainable params: 8,016,046\n",
      "Non-trainable params: 0\n",
      "_________________________________________________________________\n"
     ]
    }
   ],
   "source": [
    "LSTMmodel.summary()"
   ]
  },
  {
   "cell_type": "markdown",
   "metadata": {},
   "source": [
    "### Calculate the Number of Parameters Per Layer\n",
    "Embedding Parameters = num_words(30980) * size of output (256)<br> \n",
    "LSTM Parameters = 4 * [(size_of_input + 1) * size_of_output + size_of_output^2)]<br>\n",
    "Dense Layer = size of input(256+1) * size of output(46) "
   ]
  },
  {
   "cell_type": "code",
   "execution_count": 106,
   "metadata": {},
   "outputs": [
    {
     "data": {
      "image/png": "[encoded data removed]",
      "text/plain": [
       "<IPython.core.display.Image object>"
      ]
     },
     "execution_count": 106,
     "metadata": {},
     "output_type": "execute_result"
    }
   ],
   "source": [
    "keras.utils.plot_model(LSTMmodel, \"LSTM_model.png\", show_shapes=True) "
   ]
  },
  {
   "cell_type": "markdown",
   "metadata": {},
   "source": [
    "### Compile LSTM Model"
   ]
  },
  {
   "cell_type": "code",
   "execution_count": 107,
   "metadata": {},
   "outputs": [],
   "source": [
    "LSTMmodel.compile(optimizer='rmsprop',\n",
    "              loss='categorical_crossentropy',\n",
    "              metrics=['accuracy'])"
   ]
  },
  {
   "cell_type": "markdown",
   "metadata": {},
   "source": [
    "### Training LSTM Model"
   ]
  },
  {
   "cell_type": "code",
   "execution_count": 108,
   "metadata": {},
   "outputs": [
    {
     "name": "stdout",
     "output_type": "stream",
     "text": [
      "Epoch 1/10\n",
      "120/120 [==============================] - 79s 656ms/step - loss: 2.2269 - accuracy: 0.4465 - val_loss: 1.8520 - val_accuracy: 0.5104\n",
      "Epoch 2/10\n",
      "120/120 [==============================] - 74s 614ms/step - loss: 1.7380 - accuracy: 0.5424 - val_loss: 1.7099 - val_accuracy: 0.5282\n",
      "Epoch 3/10\n",
      "120/120 [==============================] - 73s 605ms/step - loss: 1.5330 - accuracy: 0.5876 - val_loss: 1.5664 - val_accuracy: 0.5942\n",
      "Epoch 4/10\n",
      "120/120 [==============================] - 72s 603ms/step - loss: 1.3290 - accuracy: 0.6549 - val_loss: 1.5257 - val_accuracy: 0.6335\n",
      "Epoch 5/10\n",
      "120/120 [==============================] - 73s 609ms/step - loss: 1.1364 - accuracy: 0.7189 - val_loss: 1.7037 - val_accuracy: 0.6365\n",
      "Epoch 6/10\n",
      "120/120 [==============================] - 72s 602ms/step - loss: 1.0059 - accuracy: 0.7465 - val_loss: 1.4137 - val_accuracy: 0.6662\n",
      "Epoch 7/10\n",
      "120/120 [==============================] - 73s 605ms/step - loss: 0.8764 - accuracy: 0.7806 - val_loss: 1.6278 - val_accuracy: 0.6217\n",
      "Epoch 8/10\n",
      "120/120 [==============================] - 73s 608ms/step - loss: 0.7691 - accuracy: 0.8111 - val_loss: 1.4204 - val_accuracy: 0.6855\n",
      "Epoch 9/10\n",
      "120/120 [==============================] - 72s 602ms/step - loss: 0.6671 - accuracy: 0.8373 - val_loss: 1.4315 - val_accuracy: 0.6758\n",
      "Epoch 10/10\n",
      "120/120 [==============================] - 72s 603ms/step - loss: 0.5802 - accuracy: 0.8577 - val_loss: 1.4209 - val_accuracy: 0.7010\n"
     ]
    }
   ],
   "source": [
    "train_rt = TrainRuntimeCallback()\n",
    "history = LSTMmodel.fit(LSTMtrain_data_rnn,\n",
    "                    LSTMtrain_encoded,\n",
    "                    callbacks = [train_rt],\n",
    "                    epochs=10,\n",
    "                    batch_size=64,\n",
    "                    validation_split = 0.15) "
   ]
  },
  {
   "cell_type": "markdown",
   "metadata": {},
   "source": [
    "### Training Time Statistics LSTM "
   ]
  },
  {
   "cell_type": "code",
   "execution_count": 109,
   "metadata": {},
   "outputs": [
    {
     "data": {
      "text/plain": [
       "12.335847416666667"
      ]
     },
     "execution_count": 109,
     "metadata": {},
     "output_type": "execute_result"
    }
   ],
   "source": [
    "LSTMtrain_time = (train_rt.process_time/60)\n",
    "LSTMtrain_time"
   ]
  },
  {
   "cell_type": "markdown",
   "metadata": {},
   "source": [
    "### Test LSTM Model"
   ]
  },
  {
   "cell_type": "code",
   "execution_count": 110,
   "metadata": {},
   "outputs": [
    {
     "name": "stdout",
     "output_type": "stream",
     "text": [
      "71/71 [==============================] - 6s 86ms/step - loss: 1.4991 - accuracy: 0.6808\n",
      "test set accuracy:  68.07658076286316\n"
     ]
    }
   ],
   "source": [
    "loss, accuracy = LSTMmodel.evaluate(LSTMtest_data_rnn, LSTMtest_encoded)\n",
    "print('test set accuracy: ', accuracy * 100)"
   ]
  },
  {
   "cell_type": "markdown",
   "metadata": {},
   "source": [
    "### Plotting Performance Metrics LSTM"
   ]
  },
  {
   "cell_type": "code",
   "execution_count": 111,
   "metadata": {},
   "outputs": [
    {
     "data": {
      "text/plain": [
       "dict_keys(['loss', 'accuracy', 'val_loss', 'val_accuracy'])"
      ]
     },
     "execution_count": 111,
     "metadata": {},
     "output_type": "execute_result"
    }
   ],
   "source": [
    "history_dict = history.history\n",
    "history_dict.keys()"
   ]
  },
  {
   "cell_type": "code",
   "execution_count": 112,
   "metadata": {},
   "outputs": [],
   "source": [
    "losses = history.history['loss']\n",
    "accs = history.history['accuracy']\n",
    "val_losses = history.history['val_loss']\n",
    "val_accs = history.history['val_accuracy']\n",
    "epochs = len(losses)"
   ]
  },
  {
   "cell_type": "code",
   "execution_count": 113,
   "metadata": {},
   "outputs": [
    {
     "data": {
      "image/png": "[encoded data removed]",
      "text/plain": [
       "<Figure size 864x288 with 2 Axes>"
      ]
     },
     "metadata": {
      "needs_background": "light"
     },
     "output_type": "display_data"
    }
   ],
   "source": [
    "plt.figure(figsize=(12, 4))\n",
    "for i, metrics in enumerate(zip([losses, accs], [val_losses, val_accs], ['Loss', 'Accuracy'])):\n",
    "    plt.subplot(1, 2, i + 1)\n",
    "    plt.plot(range(epochs), metrics[0], label='Training {}'.format(metrics[2]))\n",
    "    plt.plot(range(epochs), metrics[1], label='Validation {}'.format(metrics[2]))\n",
    "    plt.legend()\n",
    "plt.show()"
   ]
  },
  {
   "cell_type": "markdown",
   "metadata": {},
   "source": [
    "## Build CNN Model"
   ]
  },
  {
   "cell_type": "code",
   "execution_count": 164,
   "metadata": {
    "scrolled": false
   },
   "outputs": [
    {
     "name": "stdout",
     "output_type": "stream",
     "text": [
      "94/94 [==============================] - 23s 245ms/step - loss: 2.2636 - accuracy: 0.3970\n",
      "47/47 [==============================] - 1s 31ms/step - loss: 1.9512 - accuracy: 0.4228\n",
      "94/94 [==============================] - 24s 255ms/step - loss: 2.2719 - accuracy: 0.3878\n",
      "47/47 [==============================] - 1s 30ms/step - loss: 1.9232 - accuracy: 0.4653\n",
      "94/94 [==============================] - 24s 253ms/step - loss: 2.2558 - accuracy: 0.3836\n",
      "47/47 [==============================] - 1s 31ms/step - loss: 1.8945 - accuracy: 0.4297\n",
      "94/94 [==============================] - 26s 273ms/step - loss: 2.2298 - accuracy: 0.3980\n",
      "47/47 [==============================] - 2s 40ms/step - loss: 1.8709 - accuracy: 0.5177\n",
      "94/94 [==============================] - 26s 272ms/step - loss: 2.2291 - accuracy: 0.3969\n",
      "47/47 [==============================] - 2s 37ms/step - loss: 1.8988 - accuracy: 0.4950\n",
      "94/94 [==============================] - 25s 268ms/step - loss: 2.2340 - accuracy: 0.4011\n",
      "47/47 [==============================] - 2s 38ms/step - loss: 1.8184 - accuracy: 0.5556\n",
      "94/94 [==============================] - 29s 309ms/step - loss: 2.1989 - accuracy: 0.3949\n",
      "47/47 [==============================] - 2s 47ms/step - loss: 1.8504 - accuracy: 0.4880\n",
      "94/94 [==============================] - 30s 314ms/step - loss: 2.1896 - accuracy: 0.4107\n",
      "47/47 [==============================] - 2s 48ms/step - loss: 1.8070 - accuracy: 0.5294\n",
      "94/94 [==============================] - 30s 318ms/step - loss: 2.2199 - accuracy: 0.3970\n",
      "47/47 [==============================] - 2s 49ms/step - loss: 1.7675 - accuracy: 0.5149\n",
      "94/94 [==============================] - 38s 408ms/step - loss: 2.1567 - accuracy: 0.4099\n",
      "47/47 [==============================] - 4s 77ms/step - loss: 1.8667 - accuracy: 0.5017\n",
      "94/94 [==============================] - 38s 408ms/step - loss: 2.1666 - accuracy: 0.4254\n",
      "47/47 [==============================] - 4s 83ms/step - loss: 1.7424 - accuracy: 0.5351\n",
      "94/94 [==============================] - 35s 377ms/step - loss: 2.1607 - accuracy: 0.4103\n",
      "47/47 [==============================] - 3s 74ms/step - loss: 1.7819 - accuracy: 0.5068\n",
      "94/94 [==============================] - 51s 542ms/step - loss: 2.1112 - accuracy: 0.4217\n",
      "47/47 [==============================] - 6s 123ms/step - loss: 1.8016 - accuracy: 0.5361\n",
      "94/94 [==============================] - 51s 545ms/step - loss: 2.1248 - accuracy: 0.4116\n",
      "47/47 [==============================] - 6s 122ms/step - loss: 1.8122 - accuracy: 0.5053\n",
      "94/94 [==============================] - 52s 548ms/step - loss: 2.1353 - accuracy: 0.4098\n",
      "47/47 [==============================] - 6s 121ms/step - loss: 1.7319 - accuracy: 0.5279\n",
      "141/141 [==============================] - 77s 543ms/step - loss: 1.9730 - accuracy: 0.4693\n"
     ]
    },
    {
     "data": {
      "text/html": [
       "<div>\n",
       "<style scoped>\n",
       "    .dataframe tbody tr th:only-of-type {\n",
       "        vertical-align: middle;\n",
       "    }\n",
       "\n",
       "    .dataframe tbody tr th {\n",
       "        vertical-align: top;\n",
       "    }\n",
       "\n",
       "    .dataframe thead th {\n",
       "        text-align: right;\n",
       "    }\n",
       "</style>\n",
       "<table border=\"1\" class=\"dataframe\">\n",
       "  <thead>\n",
       "    <tr style=\"text-align: right;\">\n",
       "      <th></th>\n",
       "      <th>batch_size</th>\n",
       "      <th>filters</th>\n",
       "      <th>nb_epoch</th>\n",
       "      <th>mean_test_score</th>\n",
       "      <th>std_test_score</th>\n",
       "      <th>mean_fit_time</th>\n",
       "    </tr>\n",
       "  </thead>\n",
       "  <tbody>\n",
       "    <tr>\n",
       "      <th>4</th>\n",
       "      <td>64</td>\n",
       "      <td>256</td>\n",
       "      <td>10</td>\n",
       "      <td>0.523105</td>\n",
       "      <td>0.012995</td>\n",
       "      <td>52.321120</td>\n",
       "    </tr>\n",
       "    <tr>\n",
       "      <th>1</th>\n",
       "      <td>64</td>\n",
       "      <td>32</td>\n",
       "      <td>10</td>\n",
       "      <td>0.522774</td>\n",
       "      <td>0.025015</td>\n",
       "      <td>26.361577</td>\n",
       "    </tr>\n",
       "    <tr>\n",
       "      <th>3</th>\n",
       "      <td>64</td>\n",
       "      <td>128</td>\n",
       "      <td>10</td>\n",
       "      <td>0.514530</td>\n",
       "      <td>0.014677</td>\n",
       "      <td>38.388567</td>\n",
       "    </tr>\n",
       "    <tr>\n",
       "      <th>2</th>\n",
       "      <td>64</td>\n",
       "      <td>64</td>\n",
       "      <td>10</td>\n",
       "      <td>0.510745</td>\n",
       "      <td>0.017158</td>\n",
       "      <td>30.380489</td>\n",
       "    </tr>\n",
       "    <tr>\n",
       "      <th>0</th>\n",
       "      <td>64</td>\n",
       "      <td>16</td>\n",
       "      <td>10</td>\n",
       "      <td>0.439260</td>\n",
       "      <td>0.018598</td>\n",
       "      <td>24.405496</td>\n",
       "    </tr>\n",
       "  </tbody>\n",
       "</table>\n",
       "</div>"
      ],
      "text/plain": [
       "   batch_size  filters  nb_epoch  mean_test_score  std_test_score  \\\n",
       "4          64      256        10         0.523105        0.012995   \n",
       "1          64       32        10         0.522774        0.025015   \n",
       "3          64      128        10         0.514530        0.014677   \n",
       "2          64       64        10         0.510745        0.017158   \n",
       "0          64       16        10         0.439260        0.018598   \n",
       "\n",
       "   mean_fit_time  \n",
       "4      52.321120  \n",
       "1      26.361577  \n",
       "3      38.388567  \n",
       "2      30.380489  \n",
       "0      24.405496  "
      ]
     },
     "execution_count": 164,
     "metadata": {},
     "output_type": "execute_result"
    }
   ],
   "source": [
    "def create_model(filters):\n",
    "    # Create model\n",
    "    model = Sequential()\n",
    "    model.add(Embedding(input_dim=30980, output_dim=256, input_length=1032))\n",
    "    model.add(Dropout(0.25))\n",
    "    model.add(Conv1D(filters=filters, kernel_size=3, padding='valid', activation='relu', strides=1))\n",
    "    model.add(MaxPooling1D(pool_size=3))\n",
    "    model.add(Dropout(0.25))\n",
    "    model.add(layers.Flatten())\n",
    "    model.add(Dense(units= 46, activation='sigmoid'))\n",
    "    model.compile(optimizer='rmsprop',\n",
    "                  loss='categorical_crossentropy',\n",
    "                  metrics=['accuracy'])\n",
    "    return model\n",
    "\n",
    "model = KerasClassifier(build_fn=create_model)\n",
    "\n",
    "# grid search parameters\n",
    "filters = [16,32,64,128,256]\n",
    "epochs = [10]\n",
    "batches = [64]\n",
    "\n",
    "param_grid = dict(\n",
    "    filters=filters,\n",
    "    nb_epoch=epochs,\n",
    "    batch_size=batches,\n",
    ")\n",
    "grid_result = GridSearchCV(estimator=model, param_grid=param_grid, cv=3).fit(LSTMtrain_data_rnn, LSTMtrain_encoded)\n",
    "print_results(grid_result)"
   ]
  },
  {
   "cell_type": "code",
   "execution_count": 255,
   "metadata": {},
   "outputs": [],
   "source": [
    "model = Sequential()\n",
    "model.add(Embedding(input_dim=30980, output_dim=256, input_length=1032))\n",
    "#model.add(Dropout(0.25))\n",
    "model.add(Conv1D(filters=256, kernel_size=3, padding='valid', activation='relu', strides=1))\n",
    "model.add(MaxPooling1D(pool_size=4))\n",
    "model.add(Dropout(0.25))\n",
    "model.add(Flatten())\n",
    "model.add(Dense(units= 46, activation='sigmoid'))\n",
    "model.compile(loss='categorical_crossentropy',\n",
    "              optimizer='rmsprop',\n",
    "              metrics=['accuracy'])"
   ]
  },
  {
   "cell_type": "code",
   "execution_count": 256,
   "metadata": {},
   "outputs": [
    {
     "name": "stdout",
     "output_type": "stream",
     "text": [
      "Model: \"sequential_115\"\n",
      "_________________________________________________________________\n",
      "Layer (type)                 Output Shape              Param #   \n",
      "=================================================================\n",
      "embedding_96 (Embedding)     (None, 1032, 256)         7930880   \n",
      "_________________________________________________________________\n",
      "conv1d_91 (Conv1D)           (None, 1030, 256)         196864    \n",
      "_________________________________________________________________\n",
      "max_pooling1d_90 (MaxPooling (None, 257, 256)          0         \n",
      "_________________________________________________________________\n",
      "dropout_162 (Dropout)        (None, 257, 256)          0         \n",
      "_________________________________________________________________\n",
      "flatten_22 (Flatten)         (None, 65792)             0         \n",
      "_________________________________________________________________\n",
      "dense_92 (Dense)             (None, 46)                3026478   \n",
      "=================================================================\n",
      "Total params: 11,154,222\n",
      "Trainable params: 11,154,222\n",
      "Non-trainable params: 0\n",
      "_________________________________________________________________\n"
     ]
    }
   ],
   "source": [
    "model.summary()"
   ]
  },
  {
   "cell_type": "code",
   "execution_count": 257,
   "metadata": {},
   "outputs": [
    {
     "data": {
      "image/png": "[encoded data removed]",
      "text/plain": [
       "<IPython.core.display.Image object>"
      ]
     },
     "execution_count": 257,
     "metadata": {},
     "output_type": "execute_result"
    }
   ],
   "source": [
    "keras.utils.plot_model(model, \"Conv1Dmodel_model.png\", show_shapes=True) "
   ]
  },
  {
   "cell_type": "code",
   "execution_count": 258,
   "metadata": {},
   "outputs": [],
   "source": [
    "model.compile(optimizer='rmsprop',\n",
    "              loss='categorical_crossentropy',\n",
    "              metrics=['accuracy'])"
   ]
  },
  {
   "cell_type": "code",
   "execution_count": 259,
   "metadata": {},
   "outputs": [
    {
     "name": "stdout",
     "output_type": "stream",
     "text": [
      "Epoch 1/10\n",
      "120/120 [==============================] - 62s 515ms/step - loss: 2.0126 - accuracy: 0.4737 - val_loss: 1.6015 - val_accuracy: 0.6180\n",
      "Epoch 2/10\n",
      "120/120 [==============================] - 65s 543ms/step - loss: 1.2640 - accuracy: 0.7025 - val_loss: 1.3313 - val_accuracy: 0.7085\n",
      "Epoch 3/10\n",
      "120/120 [==============================] - 63s 528ms/step - loss: 0.8140 - accuracy: 0.8051 - val_loss: 1.4408 - val_accuracy: 0.7085\n",
      "Epoch 4/10\n",
      "120/120 [==============================] - 62s 518ms/step - loss: 0.5224 - accuracy: 0.8782 - val_loss: 1.4784 - val_accuracy: 0.6973\n",
      "Epoch 5/10\n",
      "120/120 [==============================] - 64s 531ms/step - loss: nan - accuracy: 0.1514 - val_loss: nan - val_accuracy: 0.0052\n",
      "Epoch 6/10\n",
      "120/120 [==============================] - 62s 515ms/step - loss: nan - accuracy: 0.0063 - val_loss: nan - val_accuracy: 0.0052\n",
      "Epoch 7/10\n",
      "120/120 [==============================] - 61s 510ms/step - loss: nan - accuracy: 0.0063 - val_loss: nan - val_accuracy: 0.0052\n",
      "Epoch 8/10\n",
      "120/120 [==============================] - 64s 532ms/step - loss: nan - accuracy: 0.0063 - val_loss: nan - val_accuracy: 0.0052\n",
      "Epoch 9/10\n",
      "120/120 [==============================] - 63s 528ms/step - loss: nan - accuracy: 0.0063 - val_loss: nan - val_accuracy: 0.0052\n",
      "Epoch 10/10\n",
      "120/120 [==============================] - 66s 547ms/step - loss: nan - accuracy: 0.0063 - val_loss: nan - val_accuracy: 0.0052\n"
     ]
    }
   ],
   "source": [
    "train_rt = TrainRuntimeCallback()\n",
    "history = model.fit(LSTMtrain_data_rnn,\n",
    "                    LSTMtrain_encoded,\n",
    "                    callbacks = [train_rt],\n",
    "                    epochs=10,\n",
    "                    batch_size=64,\n",
    "                    validation_split = 0.15) "
   ]
  },
  {
   "cell_type": "code",
   "execution_count": null,
   "metadata": {},
   "outputs": [],
   "source": [
    "train_rt = TrainRuntimeCallback()\n",
    "history = model.fit(LSTMtrain_data_rnn,\n",
    "                    LSTMtrain_encoded,\n",
    "                    callbacks = [train_rt],\n",
    "                    epochs=4,\n",
    "                    batch_size=64,\n",
    "                    validation_split = 0.15) "
   ]
  },
  {
   "cell_type": "code",
   "execution_count": 221,
   "metadata": {},
   "outputs": [
    {
     "data": {
      "text/plain": [
       "12.05020545"
      ]
     },
     "execution_count": 221,
     "metadata": {},
     "output_type": "execute_result"
    }
   ],
   "source": [
    "modeltrain_time = (train_rt.process_time/60)\n",
    "modeltrain_time"
   ]
  },
  {
   "cell_type": "code",
   "execution_count": 222,
   "metadata": {},
   "outputs": [
    {
     "name": "stdout",
     "output_type": "stream",
     "text": [
      "71/71 [==============================] - 5s 70ms/step - loss: nan - accuracy: 0.0053\n",
      "test set accuracy:  0.5342831835150719\n"
     ]
    }
   ],
   "source": [
    "loss, accuracy = model.evaluate(LSTMtest_data_rnn, LSTMtest_encoded)\n",
    "print('test set accuracy: ', accuracy * 100)"
   ]
  },
  {
   "cell_type": "code",
   "execution_count": 217,
   "metadata": {},
   "outputs": [
    {
     "data": {
      "text/plain": [
       "dict_keys(['loss', 'accuracy', 'val_loss', 'val_accuracy'])"
      ]
     },
     "execution_count": 217,
     "metadata": {},
     "output_type": "execute_result"
    }
   ],
   "source": [
    "history_dict = history.history\n",
    "history_dict.keys()"
   ]
  },
  {
   "cell_type": "code",
   "execution_count": 218,
   "metadata": {},
   "outputs": [],
   "source": [
    "losses = history.history['loss']\n",
    "accs = history.history['accuracy']\n",
    "val_losses = history.history['val_loss']\n",
    "val_accs = history.history['val_accuracy']\n",
    "epochs = len(losses)"
   ]
  },
  {
   "cell_type": "code",
   "execution_count": 219,
   "metadata": {},
   "outputs": [
    {
     "data": {
      "image/png": "[encoded data removed]",
      "text/plain": [
       "<Figure size 864x288 with 2 Axes>"
      ]
     },
     "metadata": {
      "needs_background": "light"
     },
     "output_type": "display_data"
    }
   ],
   "source": [
    "plt.figure(figsize=(12, 4))\n",
    "for i, metrics in enumerate(zip([losses, accs], [val_losses, val_accs], ['Loss', 'Accuracy'])):\n",
    "    plt.subplot(1, 2, i + 1)\n",
    "    plt.plot(range(epochs), metrics[0], label='Training {}'.format(metrics[2]))\n",
    "    plt.plot(range(epochs), metrics[1], label='Validation {}'.format(metrics[2]))\n",
    "    plt.legend()\n",
    "plt.show()"
   ]
  }
 ],
 "metadata": {
  "kernelspec": {
   "display_name": "Python 3",
   "language": "python",
   "name": "python3"
  },
  "language_info": {
   "codemirror_mode": {
    "name": "ipython",
    "version": 3
   },
   "file_extension": ".py",
   "mimetype": "text/x-python",
   "name": "python",
   "nbconvert_exporter": "python",
   "pygments_lexer": "ipython3",
   "version": "3.8.5"
  },
  "toc": {
   "base_numbering": 1,
   "nav_menu": {},
   "number_sections": false,
   "sideBar": true,
   "skip_h1_title": false,
   "title_cell": "Table of Contents",
   "title_sidebar": "Contents",
   "toc_cell": false,
   "toc_position": {},
   "toc_section_display": true,
   "toc_window_display": false
  }
 },
 "nbformat": 4,
 "nbformat_minor": 2
}
