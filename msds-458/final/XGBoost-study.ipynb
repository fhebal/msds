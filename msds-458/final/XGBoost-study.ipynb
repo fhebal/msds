{
 "cells": [
  {
   "cell_type": "code",
   "execution_count": 412,
   "metadata": {},
   "outputs": [],
   "source": [
    "#! python3 -m pip install graphviz\n",
    "import pandas as pd\n",
    "pd.options.display.max_rows = None\n",
    "pd.options.display.float_format = '{:.5f}'.format\n",
    "import numpy as np\n",
    "import xgboost as xgb\n",
    "from sklearn.metrics import mean_squared_error, roc_auc_score\n",
    "from sklearn.model_selection import GridSearchCV\n",
    "from sklearn.model_selection import StratifiedKFold\n",
    "from xgboost import XGBClassifier\n",
    "from tensorflow.keras.models import Sequential\n",
    "from tensorflow.keras.layers import Dense, Dropout, Embedding, Conv1D, MaxPooling1D, Flatten, LSTM\n"
   ]
  },
  {
   "cell_type": "code",
   "execution_count": null,
   "metadata": {},
   "outputs": [],
   "source": [
    "def categorify(df, cat_vars):\n",
    "    categories = {}\n",
    "    for cat in cat_vars:\n",
    "        df[cat] = df[cat].astype(\"category\").cat.as_ordered()\n",
    "        categories[cat] = df[cat].cat.categories\n",
    "    return categories\n",
    "\n",
    "\n",
    "def apply_test(test,categories):\n",
    "    for cat, index in categories.items():\n",
    "        test[cat] = pd.Categorical(test[cat],categories=categories[cat],ordered=True)\n",
    "\n",
    "        \n",
    "def print_results(grid_result):\n",
    "    para = pd.DataFrame.from_dict(grid_result.cv_results_['params'])\n",
    "    mean = pd.DataFrame(grid_result.cv_results_['mean_test_score'],columns=['mean_test_score'])\n",
    "    stds = pd.DataFrame(grid_result.cv_results_['std_test_score'],columns=['std_test_score'])\n",
    "    time = pd.DataFrame(grid_result.cv_results_['mean_fit_time'],columns=['mean_fit_time'])\n",
    "\n",
    "    df = para.join(mean.join(stds)).join(time).sort_values('mean_test_score', ascending=False)\n",
    "    df.reset_index().drop(columns=['index'])\n",
    "    return df\n",
    "\n",
    "def plot_accuracy(history):\n",
    "    losses = history.history['loss']\n",
    "    accs = history.history['accuracy']\n",
    "    val_losses = history.history['val_loss']\n",
    "    val_accs = history.history['val_accuracy']\n",
    "    epochs = len(losses)\n",
    "\n",
    "    plt.figure(figsize=(12, 4))\n",
    "    for i, metrics in enumerate(zip([losses, accs], [val_losses, val_accs], ['Loss', 'Accuracy'])):\n",
    "        plt.subplot(1, 2, i + 1)\n",
    "        plt.plot(range(epochs), metrics[0], label='Training {}'.format(metrics[2]))\n",
    "        plt.plot(range(epochs), metrics[1], label='Validation {}'.format(metrics[2]))\n",
    "        plt.legend()\n",
    "    plt.show()\n",
    "\n",
    "\n",
    "# load data\n",
    "limit = 100000\n",
    "train = pd.read_csv(\"train_transaction.csv\", nrows=limit)\n",
    "test = pd.read_csv(\"test_transaction.csv\", nrows=limit)\n",
    "\n",
    "# generate time of day\n",
    "train[\"Time of Day\"] = np.floor(train[\"TransactionDT\"]/3600/183)\n",
    "test[\"Time of Day\"] = np.floor(test[\"TransactionDT\"]/3600/183)\n",
    "\n",
    "# drop columns\n",
    "train.drop(\"TransactionDT\",axis=1,inplace=True)\n",
    "test.drop(\"TransactionDT\",axis=1,inplace=True)\n",
    "\n",
    "# define continuous and categorical variables\n",
    "cont_vars = [\"TransactionAmt\"]\n",
    "cat_vars = [\"ProductCD\",\"addr1\",\"addr2\",\"P_emaildomain\",\"R_emaildomain\",\"Time of Day\"] + [col for col in train.columns if \"card\" in col]\n",
    "\n",
    "# set training and testing set\n",
    "x_train = train[cont_vars + cat_vars].copy()\n",
    "y_train = train[\"isFraud\"].copy()\n",
    "x_test = train[cont_vars + cat_vars].copy()\n",
    "y_test = train[\"isFraud\"].copy()\n",
    "\n",
    "\n",
    "# process cont_vars\n",
    "\n",
    "# scale values\n",
    "from sklearn.preprocessing import StandardScaler\n",
    "scaler = StandardScaler()\n",
    "x_train[\"TransactionAmt\"] = scaler.fit_transform(x_train[\"TransactionAmt\"].values.reshape(-1,1))\n",
    "x_test[\"TransactionAmt\"] = scaler.transform(x_test[\"TransactionAmt\"].values.reshape(-1,1))\n",
    "\n",
    "# reduce cardinality of categorical variables\n",
    "idx_list = x_train[\"card1\"].value_counts()[x_train[\"card1\"].value_counts()<=100].index.tolist()\n",
    "x_train.loc[x_train[\"card1\"].isin(idx_list),\"card1\"] = \"Others\"\n",
    "x_test.loc[x_test[\"card1\"].isin(idx_list),\"card1\"] = \"Others\"\n",
    "\n",
    "# fill missing\n",
    "x_train[cat_vars] = x_train[cat_vars].fillna(\"Missing\")\n",
    "x_test[cat_vars] = x_test[cat_vars].fillna(\"Missing\")\n",
    "\n",
    "\n",
    "# convert to integers\n",
    "categories = categorify(x_train,cat_vars)\n",
    "apply_test(x_test,categories)\n",
    "for cat in cat_vars:\n",
    "    x_train[cat] = x_train[cat].cat.codes+1\n",
    "    x_test[cat] = x_test[cat].cat.codes+1\n",
    "    \n",
    "\n",
    "# imbalanced classes\n",
    "from imblearn.over_sampling import SMOTE\n",
    "sm = SMOTE(random_state=0)\n",
    "x_sm, y_train = sm.fit_resample(x_train, y_train)\n",
    "x_train = pd.DataFrame(x_sm,columns=x_train.columns)"
   ]
  },
  {
   "cell_type": "markdown",
   "metadata": {},
   "source": [
    "# DENOISING DATA"
   ]
  },
  {
   "cell_type": "code",
   "execution_count": 383,
   "metadata": {},
   "outputs": [
    {
     "name": "stdout",
     "output_type": "stream",
     "text": [
      "Epoch 1/10\n",
      "9119/9119 [==============================] - 31s 3ms/step - loss: 6663.0537 - accuracy: 0.7630 - val_loss: 9008.8516 - val_accuracy: 0.8564\n",
      "Epoch 2/10\n",
      "9119/9119 [==============================] - 14s 1ms/step - loss: 4605.4443 - accuracy: 0.8076 - val_loss: 5634.4072 - val_accuracy: 0.8708\n",
      "Epoch 3/10\n",
      "9119/9119 [==============================] - 13s 1ms/step - loss: 4188.7129 - accuracy: 0.8147 - val_loss: 4906.4058 - val_accuracy: 0.8649\n",
      "Epoch 4/10\n",
      "9119/9119 [==============================] - 13s 1ms/step - loss: 3950.1689 - accuracy: 0.8157 - val_loss: 3962.1921 - val_accuracy: 0.8511\n",
      "Epoch 5/10\n",
      "9119/9119 [==============================] - 14s 2ms/step - loss: 3763.0842 - accuracy: 0.8204 - val_loss: 3587.4204 - val_accuracy: 0.8623\n",
      "Epoch 6/10\n",
      "9119/9119 [==============================] - 14s 2ms/step - loss: 3647.9587 - accuracy: 0.8238 - val_loss: 3454.5874 - val_accuracy: 0.8675\n",
      "Epoch 7/10\n",
      "9119/9119 [==============================] - 14s 1ms/step - loss: 3562.6958 - accuracy: 0.8267 - val_loss: 3512.1274 - val_accuracy: 0.8661\n",
      "Epoch 8/10\n",
      "9119/9119 [==============================] - 13s 1ms/step - loss: 3486.4812 - accuracy: 0.8299 - val_loss: 3452.7100 - val_accuracy: 0.8746\n",
      "Epoch 9/10\n",
      "9119/9119 [==============================] - 14s 2ms/step - loss: 3406.8333 - accuracy: 0.8310 - val_loss: 3202.6614 - val_accuracy: 0.8752\n",
      "Epoch 10/10\n",
      "9119/9119 [==============================] - 13s 1ms/step - loss: 3323.2495 - accuracy: 0.8331 - val_loss: 3142.3472 - val_accuracy: 0.8862\n"
     ]
    }
   ],
   "source": [
    "\n",
    "#Change mean and scale of the noise according to your data\n",
    "noise = np.random.normal(loc=0, scale=0.5, size=x_train.shape)\n",
    "x_train_noisy = x_train + noise\n",
    "len_input_output = x_train.shape[-1]\n",
    "def make_dae():\n",
    "    dae = Sequential([\n",
    "        Dense(units=len_input_output*2, \n",
    "              activation=\"relu\", input_shape=(len_input_output,)),\n",
    "        Dropout(0.5), #Add dropout layers if required \n",
    "        Dense(units=len_input_output*2, activation=\"relu\"),\n",
    "        Dropout(0.5), #Add dropout layers if required \n",
    "        Dense(units=len_input_output*2, activation=\"relu\"),\n",
    "        Dropout(0.5), #Add dropout layers if required \n",
    "        Dense(units=len_input_output, activation=\"linear\"),\n",
    "    ])\n",
    "    dae.compile(\n",
    "        optimizer='adam', \n",
    "        loss='mean_squared_error',\n",
    "        metrics=['accuracy']\n",
    "    )\n",
    "    return dae\n",
    "dae = make_dae()\n",
    "history = dae.fit(\n",
    "    x_train_noisy,\n",
    "    x_train,\n",
    "    batch_size = 100,\n",
    "    epochs = 10,\n",
    "    validation_split=.2\n",
    "    )"
   ]
  },
  {
   "cell_type": "code",
   "execution_count": 441,
   "metadata": {},
   "outputs": [
    {
     "data": {
      "text/plain": [
       "(19470, 13)"
      ]
     },
     "execution_count": 441,
     "metadata": {},
     "output_type": "execute_result"
    }
   ],
   "source": [
    "x_train_denoised = dae.predict(x_train)\n",
    "x_train_denoised.shape"
   ]
  },
  {
   "cell_type": "code",
   "execution_count": 442,
   "metadata": {},
   "outputs": [
    {
     "data": {
      "text/plain": [
       "(19470,)"
      ]
     },
     "execution_count": 442,
     "metadata": {},
     "output_type": "execute_result"
    }
   ],
   "source": [
    "y_train.shape"
   ]
  },
  {
   "cell_type": "code",
   "execution_count": 443,
   "metadata": {
    "scrolled": false
   },
   "outputs": [
    {
     "name": "stdout",
     "output_type": "stream",
     "text": [
      "Model: \"sequential_80\"\n",
      "_________________________________________________________________\n",
      "Layer (type)                 Output Shape              Param #   \n",
      "=================================================================\n",
      "dense_249 (Dense)            (None, 100)               1400      \n",
      "_________________________________________________________________\n",
      "dense_250 (Dense)            (None, 100)               10100     \n",
      "_________________________________________________________________\n",
      "batch_normalization_104 (Bat (None, 100)               400       \n",
      "_________________________________________________________________\n",
      "dropout_167 (Dropout)        (None, 100)               0         \n",
      "_________________________________________________________________\n",
      "dense_251 (Dense)            (None, 100)               10100     \n",
      "_________________________________________________________________\n",
      "batch_normalization_105 (Bat (None, 100)               400       \n",
      "_________________________________________________________________\n",
      "dropout_168 (Dropout)        (None, 100)               0         \n",
      "_________________________________________________________________\n",
      "dense_252 (Dense)            (None, 100)               10100     \n",
      "_________________________________________________________________\n",
      "batch_normalization_106 (Bat (None, 100)               400       \n",
      "_________________________________________________________________\n",
      "dropout_169 (Dropout)        (None, 100)               0         \n",
      "_________________________________________________________________\n",
      "dense_253 (Dense)            (None, 100)               10100     \n",
      "_________________________________________________________________\n",
      "batch_normalization_107 (Bat (None, 100)               400       \n",
      "_________________________________________________________________\n",
      "dropout_170 (Dropout)        (None, 100)               0         \n",
      "_________________________________________________________________\n",
      "dense_254 (Dense)            (None, 1)                 101       \n",
      "=================================================================\n",
      "Total params: 43,501\n",
      "Trainable params: 42,701\n",
      "Non-trainable params: 800\n",
      "_________________________________________________________________\n",
      "Epoch 1/20\n",
      "166/166 [==============================] - 1s 5ms/step - loss: 6.5002 - accuracy: 0.5504 - val_loss: 0.0000e+00 - val_accuracy: 1.0000\n",
      "Epoch 2/20\n",
      "166/166 [==============================] - 1s 4ms/step - loss: 6.1710 - accuracy: 0.5680 - val_loss: 2.0606 - val_accuracy: 0.8658\n",
      "Epoch 3/20\n",
      "166/166 [==============================] - 1s 4ms/step - loss: 6.3145 - accuracy: 0.5527 - val_loss: 2.6850 - val_accuracy: 0.8244\n",
      "Epoch 4/20\n",
      "166/166 [==============================] - 1s 4ms/step - loss: 6.9932 - accuracy: 0.5202 - val_loss: 15.4250 - val_accuracy: 0.0000e+00\n",
      "Epoch 5/20\n",
      "166/166 [==============================] - 1s 3ms/step - loss: 6.3815 - accuracy: 0.5726 - val_loss: 15.4250 - val_accuracy: 0.0000e+00\n",
      "Epoch 6/20\n",
      "166/166 [==============================] - 1s 4ms/step - loss: 6.3188 - accuracy: 0.5770 - val_loss: 7.7662 - val_accuracy: 0.4944\n",
      "Epoch 7/20\n",
      "166/166 [==============================] - 1s 4ms/step - loss: 6.4017 - accuracy: 0.5701 - val_loss: 9.4610 - val_accuracy: 0.3619\n",
      "Epoch 8/20\n",
      "166/166 [==============================] - 1s 4ms/step - loss: 6.3519 - accuracy: 0.5712 - val_loss: 15.4250 - val_accuracy: 0.0000e+00\n",
      "Epoch 9/20\n",
      "166/166 [==============================] - 1s 4ms/step - loss: 6.2491 - accuracy: 0.5793 - val_loss: 15.4250 - val_accuracy: 0.0000e+00\n",
      "Epoch 10/20\n",
      "166/166 [==============================] - 1s 4ms/step - loss: 6.1303 - accuracy: 0.5862 - val_loss: 0.0000e+00 - val_accuracy: 1.0000\n",
      "Epoch 11/20\n",
      "166/166 [==============================] - 1s 4ms/step - loss: 6.4517 - accuracy: 0.5792 - val_loss: 0.0000e+00 - val_accuracy: 1.0000\n",
      "Epoch 12/20\n",
      "166/166 [==============================] - 1s 4ms/step - loss: 6.4197 - accuracy: 0.5789 - val_loss: 15.4250 - val_accuracy: 0.0000e+00\n",
      "Epoch 13/20\n",
      "166/166 [==============================] - 1s 4ms/step - loss: 6.9890 - accuracy: 0.5354 - val_loss: 12.9815 - val_accuracy: 0.1578\n",
      "Epoch 14/20\n",
      "166/166 [==============================] - 1s 4ms/step - loss: 6.4474 - accuracy: 0.5699 - val_loss: 0.0904 - val_accuracy: 0.9938\n",
      "Epoch 15/20\n",
      "166/166 [==============================] - 1s 4ms/step - loss: 6.4781 - accuracy: 0.5713 - val_loss: 0.0043 - val_accuracy: 1.0000\n",
      "Epoch 16/20\n",
      "166/166 [==============================] - 1s 4ms/step - loss: 6.5045 - accuracy: 0.5730 - val_loss: 0.2866 - val_accuracy: 0.9808\n",
      "Epoch 17/20\n",
      "166/166 [==============================] - 1s 4ms/step - loss: 6.2310 - accuracy: 0.5938 - val_loss: 0.0000e+00 - val_accuracy: 1.0000\n",
      "Epoch 18/20\n",
      "166/166 [==============================] - 1s 4ms/step - loss: 6.3674 - accuracy: 0.5837 - val_loss: 2.0021 - val_accuracy: 0.8696\n",
      "Epoch 19/20\n",
      "166/166 [==============================] - 1s 4ms/step - loss: 6.1324 - accuracy: 0.5942 - val_loss: 15.4250 - val_accuracy: 0.0000e+00\n",
      "Epoch 20/20\n",
      "166/166 [==============================] - 1s 4ms/step - loss: 6.1862 - accuracy: 0.5948 - val_loss: 13.0381 - val_accuracy: 0.1547\n"
     ]
    },
    {
     "data": {
      "image/png": "[encoded data removed]",
      "text/plain": [
       "<Figure size 864x288 with 2 Axes>"
      ]
     },
     "metadata": {
      "needs_background": "light"
     },
     "output_type": "display_data"
    }
   ],
   "source": [
    "def create_model(units=10, num_layers=2, learning_rate=0.01):\n",
    "    layers=[]\n",
    "    for i in range(num_layers):\n",
    "        if i == 0 :\n",
    "            layers += [\n",
    "                tf.keras.layers.Dense(units, activation='relu', input_shape=(13,))\n",
    "            ]\n",
    "        else:\n",
    "            layers += [\n",
    "                tf.keras.layers.Dense(units, activation='relu'),\n",
    "                tf.keras.layers.BatchNormalization(),\n",
    "                tf.keras.layers.Dropout(0.2)\n",
    "            ]\n",
    "    layers.append(tf.keras.layers.Dense(1))\n",
    "    model = tf.keras.Sequential(layers)\n",
    "    \n",
    "    model.compile(\n",
    "        optimizer=tf.keras.optimizers.Adam(learning_rate),\n",
    "        loss=tf.keras.losses.BinaryCrossentropy(),\n",
    "        metrics=['accuracy'])\n",
    "    \n",
    "    return model\n",
    "\n",
    "#model = KerasClassifier(build_fn=create_model)\n",
    "\n",
    "model = create_model(units=100, num_layers=5, learning_rate=0.01)\n",
    "model.summary()\n",
    "history = model.fit(x_train_denoised, y_train.values, epochs=10, validation_split=.15, batch_size=100)\n",
    "plot_accuracy(history)"
   ]
  },
  {
   "cell_type": "code",
   "execution_count": 370,
   "metadata": {},
   "outputs": [
    {
     "data": {
      "text/plain": [
       "0.5660665524600441"
      ]
     },
     "execution_count": 370,
     "metadata": {},
     "output_type": "execute_result"
    }
   ],
   "source": [
    "y_pred = model.predict(x_test)\n",
    "y_pred.shape\n",
    "roc = sklearn.metrics.roc_auc_score(y_test,y_pred)\n",
    "roc"
   ]
  },
  {
   "cell_type": "markdown",
   "metadata": {},
   "source": [
    "# Conv2D"
   ]
  }
 ],
 "metadata": {
  "kernelspec": {
   "display_name": "Python 3",
   "language": "python",
   "name": "python3"
  }
 },
 "nbformat": 4,
 "nbformat_minor": 4
}
